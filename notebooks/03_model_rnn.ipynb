{
 "cells": [
  {
   "cell_type": "markdown",
   "metadata": {},
   "source": [
    "# 03. Model RNN"
   ]
  },
  {
   "cell_type": "markdown",
   "metadata": {},
   "source": [
    "### Importando as bibliotecas"
   ]
  },
  {
   "cell_type": "code",
   "execution_count": 1,
   "metadata": {},
   "outputs": [],
   "source": [
    "import sys\n",
    "import os\n",
    "from pathlib import Path\n",
    "sys.path.append('..')\n",
    "import pandas as pd\n",
    "import numpy as np\n",
    "import matplotlib.pyplot as plt\n",
    "import tensorflow as tf\n",
    "from tensorflow import keras\n",
    "import string"
   ]
  },
  {
   "cell_type": "markdown",
   "metadata": {},
   "source": [
    "### Configurando para serem exibidas apenas mensagens de erro no Tensor Flow"
   ]
  },
  {
   "cell_type": "code",
   "execution_count": 2,
   "metadata": {},
   "outputs": [],
   "source": [
    "os.environ['TF_CPP_MIN_LOG_LEVEL'] = '2' # Configurando para serem exibidas apenas mensagens de erro no Tensor Flow"
   ]
  },
  {
   "cell_type": "markdown",
   "metadata": {},
   "source": [
    "### Lendo o dataset"
   ]
  },
  {
   "cell_type": "code",
   "execution_count": 3,
   "metadata": {},
   "outputs": [],
   "source": [
    "df = keras.datasets.imdb # Armazenando o dataset em uma variável"
   ]
  },
  {
   "cell_type": "code",
   "execution_count": 4,
   "metadata": {},
   "outputs": [],
   "source": [
    "(x_train, y_train), (x_test, y_test) = df.load_data() # Armazenando os dados do df já divididos em X e Y de treino e teste"
   ]
  },
  {
   "cell_type": "code",
   "execution_count": 5,
   "metadata": {},
   "outputs": [],
   "source": [
    "word_index = df.get_word_index() # Armazenando o dicionário de palavras em uma variável"
   ]
  },
  {
   "cell_type": "code",
   "execution_count": 6,
   "metadata": {},
   "outputs": [],
   "source": [
    "word_index = {chave: (valor + 3) for chave, valor in word_index.items()} # Adicionando 4 espaços no dicionário para inserir tokens especiais para NLP: PAD, START, UNK e UNUSED"
   ]
  },
  {
   "cell_type": "code",
   "execution_count": 7,
   "metadata": {},
   "outputs": [],
   "source": [
    "# Adicionando os tokens especiais em suas respectivas posições\n",
    "word_index['<PAD>'] = 0\n",
    "word_index['<START>'] = 1\n",
    "word_index['<UNK>'] = 2\n",
    "word_index['<UNUSED>'] = 3"
   ]
  },
  {
   "cell_type": "code",
   "execution_count": 8,
   "metadata": {},
   "outputs": [],
   "source": [
    "x_train = keras.utils.pad_sequences( # Ajustando o novo valor de x de treino para otimizar os recursos de processamento, limitando os reviews em 256 tokens (nesse caso, palavras). Para reviews menores, serão preenchidos com <PAD>. Para reviews maiores, serão cortados em 256 tokens.\n",
    "    x_train, # Passando os dados que serão alterados\n",
    "    value=word_index['<PAD>'], # Passando o valor que preenchera os espaços vazios caso os reviews tenham menos de 256 tokens\n",
    "    padding='post', # Definindo se os reviews com menos de 256 tokens, vão ser preenchidos com <PAD> no início ou no final\n",
    "    truncating='post', # Definindo se os reviews com mais de 256 tokens, vão ser cortados no início ou no final\n",
    "    maxlen=256 # Definindo o número máximo de tokens\n",
    ")\n",
    "\n",
    "x_test = keras.utils.pad_sequences( # Ajustando o novo valor de x de teste para otimizar os recursos de processamento, limitando os reviews em 256 tokens (nesse caso, palavras). Para reviews menores, serão preenchidos com <PAD>. Para reviews maiores, serão cortados em 256 tokens.\n",
    "    x_test, # Passando os dados que serão alterados\n",
    "    value=word_index['<PAD>'], # Passando o valor que preenchera os espaços vazios caso os reviews tenham menos de 256 tokens\n",
    "    padding='post', # Definindo se os reviews com menos de 256 tokens, vão ser preenchidos com <PAD> no início ou no final\n",
    "    truncating='post', # Definindo se os reviews com mais de 256 tokens, vão ser cortados no início ou no final\n",
    "    maxlen=256 # Definindo o número máximo de tokens\n",
    ")"
   ]
  },
  {
   "cell_type": "code",
   "execution_count": 9,
   "metadata": {},
   "outputs": [],
   "source": [
    "def decode_review(text, index): # Criando uma função para transformar os reviews, de sequência de números para um texto normal que pode ser lido, passando um texto e o dicionário de palavras\n",
    "    reverse_index = {value: key for key, value in index.items()} # Invertendo o dicionário anterior de palavras para números, para números para palavras\n",
    "    return ' '.join([reverse_index.get(value, '<UNK>') for value in text]) # Retorna o texto do review, percorrendo cada número e buscando sua palavra correspondente"
   ]
  },
  {
   "cell_type": "markdown",
   "metadata": {},
   "source": [
    "### Definindo o modelo Keras a partir de um pipeline"
   ]
  },
  {
   "cell_type": "code",
   "execution_count": 10,
   "metadata": {},
   "outputs": [
    {
     "data": {
      "text/html": [
       "<pre style=\"white-space:pre;overflow-x:auto;line-height:normal;font-family:Menlo,'DejaVu Sans Mono',consolas,'Courier New',monospace\"><span style=\"font-weight: bold\">Model: \"sequential\"</span>\n",
       "</pre>\n"
      ],
      "text/plain": [
       "\u001b[1mModel: \"sequential\"\u001b[0m\n"
      ]
     },
     "metadata": {},
     "output_type": "display_data"
    },
    {
     "data": {
      "text/html": [
       "<pre style=\"white-space:pre;overflow-x:auto;line-height:normal;font-family:Menlo,'DejaVu Sans Mono',consolas,'Courier New',monospace\">┏━━━━━━━━━━━━━━━━━━━━━━━━━━━━━━━━━┳━━━━━━━━━━━━━━━━━━━━━━━━┳━━━━━━━━━━━━━━━┓\n",
       "┃<span style=\"font-weight: bold\"> Layer (type)                    </span>┃<span style=\"font-weight: bold\"> Output Shape           </span>┃<span style=\"font-weight: bold\">       Param # </span>┃\n",
       "┡━━━━━━━━━━━━━━━━━━━━━━━━━━━━━━━━━╇━━━━━━━━━━━━━━━━━━━━━━━━╇━━━━━━━━━━━━━━━┩\n",
       "│ embedding (<span style=\"color: #0087ff; text-decoration-color: #0087ff\">Embedding</span>)           │ (<span style=\"color: #00d7ff; text-decoration-color: #00d7ff\">None</span>, <span style=\"color: #00af00; text-decoration-color: #00af00\">256</span>, <span style=\"color: #00af00; text-decoration-color: #00af00\">64</span>)        │     <span style=\"color: #00af00; text-decoration-color: #00af00\">5,669,632</span> │\n",
       "├─────────────────────────────────┼────────────────────────┼───────────────┤\n",
       "│ lstm (<span style=\"color: #0087ff; text-decoration-color: #0087ff\">LSTM</span>)                     │ (<span style=\"color: #00d7ff; text-decoration-color: #00d7ff\">None</span>, <span style=\"color: #00af00; text-decoration-color: #00af00\">64</span>)             │        <span style=\"color: #00af00; text-decoration-color: #00af00\">33,024</span> │\n",
       "├─────────────────────────────────┼────────────────────────┼───────────────┤\n",
       "│ dense (<span style=\"color: #0087ff; text-decoration-color: #0087ff\">Dense</span>)                   │ (<span style=\"color: #00d7ff; text-decoration-color: #00d7ff\">None</span>, <span style=\"color: #00af00; text-decoration-color: #00af00\">2</span>)              │           <span style=\"color: #00af00; text-decoration-color: #00af00\">130</span> │\n",
       "└─────────────────────────────────┴────────────────────────┴───────────────┘\n",
       "</pre>\n"
      ],
      "text/plain": [
       "┏━━━━━━━━━━━━━━━━━━━━━━━━━━━━━━━━━┳━━━━━━━━━━━━━━━━━━━━━━━━┳━━━━━━━━━━━━━━━┓\n",
       "┃\u001b[1m \u001b[0m\u001b[1mLayer (type)                   \u001b[0m\u001b[1m \u001b[0m┃\u001b[1m \u001b[0m\u001b[1mOutput Shape          \u001b[0m\u001b[1m \u001b[0m┃\u001b[1m \u001b[0m\u001b[1m      Param #\u001b[0m\u001b[1m \u001b[0m┃\n",
       "┡━━━━━━━━━━━━━━━━━━━━━━━━━━━━━━━━━╇━━━━━━━━━━━━━━━━━━━━━━━━╇━━━━━━━━━━━━━━━┩\n",
       "│ embedding (\u001b[38;5;33mEmbedding\u001b[0m)           │ (\u001b[38;5;45mNone\u001b[0m, \u001b[38;5;34m256\u001b[0m, \u001b[38;5;34m64\u001b[0m)        │     \u001b[38;5;34m5,669,632\u001b[0m │\n",
       "├─────────────────────────────────┼────────────────────────┼───────────────┤\n",
       "│ lstm (\u001b[38;5;33mLSTM\u001b[0m)                     │ (\u001b[38;5;45mNone\u001b[0m, \u001b[38;5;34m64\u001b[0m)             │        \u001b[38;5;34m33,024\u001b[0m │\n",
       "├─────────────────────────────────┼────────────────────────┼───────────────┤\n",
       "│ dense (\u001b[38;5;33mDense\u001b[0m)                   │ (\u001b[38;5;45mNone\u001b[0m, \u001b[38;5;34m2\u001b[0m)              │           \u001b[38;5;34m130\u001b[0m │\n",
       "└─────────────────────────────────┴────────────────────────┴───────────────┘\n"
      ]
     },
     "metadata": {},
     "output_type": "display_data"
    },
    {
     "data": {
      "text/html": [
       "<pre style=\"white-space:pre;overflow-x:auto;line-height:normal;font-family:Menlo,'DejaVu Sans Mono',consolas,'Courier New',monospace\"><span style=\"font-weight: bold\"> Total params: </span><span style=\"color: #00af00; text-decoration-color: #00af00\">5,702,786</span> (21.75 MB)\n",
       "</pre>\n"
      ],
      "text/plain": [
       "\u001b[1m Total params: \u001b[0m\u001b[38;5;34m5,702,786\u001b[0m (21.75 MB)\n"
      ]
     },
     "metadata": {},
     "output_type": "display_data"
    },
    {
     "data": {
      "text/html": [
       "<pre style=\"white-space:pre;overflow-x:auto;line-height:normal;font-family:Menlo,'DejaVu Sans Mono',consolas,'Courier New',monospace\"><span style=\"font-weight: bold\"> Trainable params: </span><span style=\"color: #00af00; text-decoration-color: #00af00\">5,702,786</span> (21.75 MB)\n",
       "</pre>\n"
      ],
      "text/plain": [
       "\u001b[1m Trainable params: \u001b[0m\u001b[38;5;34m5,702,786\u001b[0m (21.75 MB)\n"
      ]
     },
     "metadata": {},
     "output_type": "display_data"
    },
    {
     "data": {
      "text/html": [
       "<pre style=\"white-space:pre;overflow-x:auto;line-height:normal;font-family:Menlo,'DejaVu Sans Mono',consolas,'Courier New',monospace\"><span style=\"font-weight: bold\"> Non-trainable params: </span><span style=\"color: #00af00; text-decoration-color: #00af00\">0</span> (0.00 B)\n",
       "</pre>\n"
      ],
      "text/plain": [
       "\u001b[1m Non-trainable params: \u001b[0m\u001b[38;5;34m0\u001b[0m (0.00 B)\n"
      ]
     },
     "metadata": {},
     "output_type": "display_data"
    }
   ],
   "source": [
    "# Etapa inicial\n",
    "model = keras.models.Sequential() # Instanciando o modelo\n",
    "\n",
    "# Etapas de pré processamento\n",
    "model.add(keras.layers.InputLayer(shape=(256,))) # Passando o shape dos dados para o modelo (Conforme definido o limite de tokens)\n",
    "model.add(keras.layers.Embedding(len(word_index), 64)) # Passando o embedding para fazer a segmentação das palavras\n",
    "model.add(keras.layers.LSTM(64, dropout=0.5)) # Adicionando o uma camada LSTM, que é uma rede neural recorrente, para capturar dependências de longo prazo em uma sequência de dados\n",
    "\n",
    "# Etapas de camadas ocultas\n",
    "model.add(keras.layers.Dense(2, activation='sigmoid')) # Passando a camada de entrada (2 = tipos de classificação (positiva ou negativa))\n",
    "\n",
    "model.summary() # Exibindo o resumo do treinamento"
   ]
  },
  {
   "cell_type": "markdown",
   "metadata": {},
   "source": [
    "### Compilando o modelo"
   ]
  },
  {
   "cell_type": "code",
   "execution_count": 11,
   "metadata": {},
   "outputs": [],
   "source": [
    "optimizer = keras.optimizers.Adam(1E-4) # Definindo o otimizador\n",
    "loss = keras.losses.SparseCategoricalCrossentropy() # Definindo a função de busca\n",
    "metric = keras.metrics.SparseCategoricalAccuracy() # Definindo a métrica a ser considerada durante o treinamento\n",
    "\n",
    "model.compile(optimizer=optimizer, loss=loss, metrics=[metric]) # Compilando o modelo"
   ]
  },
  {
   "cell_type": "markdown",
   "metadata": {},
   "source": [
    "### Treinando o modelo"
   ]
  },
  {
   "cell_type": "code",
   "execution_count": 12,
   "metadata": {},
   "outputs": [
    {
     "name": "stdout",
     "output_type": "stream",
     "text": [
      "Epoch 1/50\n",
      "\u001b[1m40/40\u001b[0m \u001b[32m━━━━━━━━━━━━━━━━━━━━\u001b[0m\u001b[37m\u001b[0m \u001b[1m33s\u001b[0m 764ms/step - loss: 0.6933 - sparse_categorical_accuracy: 0.5041 - val_loss: 0.6932 - val_sparse_categorical_accuracy: 0.5022\n",
      "Epoch 2/50\n",
      "\u001b[1m40/40\u001b[0m \u001b[32m━━━━━━━━━━━━━━━━━━━━\u001b[0m\u001b[37m\u001b[0m \u001b[1m44s\u001b[0m 1s/step - loss: 0.6929 - sparse_categorical_accuracy: 0.5083 - val_loss: 0.6932 - val_sparse_categorical_accuracy: 0.5022\n",
      "Epoch 3/50\n",
      "\u001b[1m40/40\u001b[0m \u001b[32m━━━━━━━━━━━━━━━━━━━━\u001b[0m\u001b[37m\u001b[0m \u001b[1m49s\u001b[0m 1s/step - loss: 0.6926 - sparse_categorical_accuracy: 0.5140 - val_loss: 0.6931 - val_sparse_categorical_accuracy: 0.5026\n",
      "Epoch 4/50\n",
      "\u001b[1m40/40\u001b[0m \u001b[32m━━━━━━━━━━━━━━━━━━━━\u001b[0m\u001b[37m\u001b[0m \u001b[1m86s\u001b[0m 2s/step - loss: 0.6927 - sparse_categorical_accuracy: 0.5047 - val_loss: 0.6931 - val_sparse_categorical_accuracy: 0.5028\n",
      "Epoch 5/50\n",
      "\u001b[1m40/40\u001b[0m \u001b[32m━━━━━━━━━━━━━━━━━━━━\u001b[0m\u001b[37m\u001b[0m \u001b[1m49s\u001b[0m 1s/step - loss: 0.6924 - sparse_categorical_accuracy: 0.5134 - val_loss: 0.6930 - val_sparse_categorical_accuracy: 0.5038\n",
      "Epoch 6/50\n",
      "\u001b[1m40/40\u001b[0m \u001b[32m━━━━━━━━━━━━━━━━━━━━\u001b[0m\u001b[37m\u001b[0m \u001b[1m56s\u001b[0m 1s/step - loss: 0.6924 - sparse_categorical_accuracy: 0.5100 - val_loss: 0.6929 - val_sparse_categorical_accuracy: 0.5036\n",
      "Epoch 7/50\n",
      "\u001b[1m40/40\u001b[0m \u001b[32m━━━━━━━━━━━━━━━━━━━━\u001b[0m\u001b[37m\u001b[0m \u001b[1m68s\u001b[0m 2s/step - loss: 0.6918 - sparse_categorical_accuracy: 0.5147 - val_loss: 0.6928 - val_sparse_categorical_accuracy: 0.5040\n",
      "Epoch 8/50\n",
      "\u001b[1m40/40\u001b[0m \u001b[32m━━━━━━━━━━━━━━━━━━━━\u001b[0m\u001b[37m\u001b[0m \u001b[1m51s\u001b[0m 1s/step - loss: 0.6910 - sparse_categorical_accuracy: 0.5200 - val_loss: 0.6926 - val_sparse_categorical_accuracy: 0.5052\n",
      "Epoch 9/50\n",
      "\u001b[1m40/40\u001b[0m \u001b[32m━━━━━━━━━━━━━━━━━━━━\u001b[0m\u001b[37m\u001b[0m \u001b[1m55s\u001b[0m 1s/step - loss: 0.6902 - sparse_categorical_accuracy: 0.5151 - val_loss: 0.6923 - val_sparse_categorical_accuracy: 0.5132\n",
      "Epoch 10/50\n",
      "\u001b[1m40/40\u001b[0m \u001b[32m━━━━━━━━━━━━━━━━━━━━\u001b[0m\u001b[37m\u001b[0m \u001b[1m64s\u001b[0m 2s/step - loss: 0.6891 - sparse_categorical_accuracy: 0.5176 - val_loss: 0.6913 - val_sparse_categorical_accuracy: 0.5120\n",
      "Epoch 11/50\n",
      "\u001b[1m40/40\u001b[0m \u001b[32m━━━━━━━━━━━━━━━━━━━━\u001b[0m\u001b[37m\u001b[0m \u001b[1m50s\u001b[0m 1s/step - loss: 0.6865 - sparse_categorical_accuracy: 0.5330 - val_loss: 0.6813 - val_sparse_categorical_accuracy: 0.5476\n",
      "Epoch 12/50\n",
      "\u001b[1m40/40\u001b[0m \u001b[32m━━━━━━━━━━━━━━━━━━━━\u001b[0m\u001b[37m\u001b[0m \u001b[1m54s\u001b[0m 1s/step - loss: 0.6686 - sparse_categorical_accuracy: 0.5997 - val_loss: 0.6183 - val_sparse_categorical_accuracy: 0.6550\n",
      "Epoch 13/50\n",
      "\u001b[1m40/40\u001b[0m \u001b[32m━━━━━━━━━━━━━━━━━━━━\u001b[0m\u001b[37m\u001b[0m \u001b[1m62s\u001b[0m 2s/step - loss: 0.5889 - sparse_categorical_accuracy: 0.7124 - val_loss: 0.5300 - val_sparse_categorical_accuracy: 0.7772\n",
      "Epoch 14/50\n",
      "\u001b[1m40/40\u001b[0m \u001b[32m━━━━━━━━━━━━━━━━━━━━\u001b[0m\u001b[37m\u001b[0m \u001b[1m38s\u001b[0m 958ms/step - loss: 0.5181 - sparse_categorical_accuracy: 0.7918 - val_loss: 0.4807 - val_sparse_categorical_accuracy: 0.8050\n",
      "Epoch 15/50\n",
      "\u001b[1m40/40\u001b[0m \u001b[32m━━━━━━━━━━━━━━━━━━━━\u001b[0m\u001b[37m\u001b[0m \u001b[1m72s\u001b[0m 2s/step - loss: 0.4707 - sparse_categorical_accuracy: 0.8155 - val_loss: 0.5133 - val_sparse_categorical_accuracy: 0.7854\n",
      "Epoch 16/50\n",
      "\u001b[1m40/40\u001b[0m \u001b[32m━━━━━━━━━━━━━━━━━━━━\u001b[0m\u001b[37m\u001b[0m \u001b[1m52s\u001b[0m 1s/step - loss: 0.4435 - sparse_categorical_accuracy: 0.8295 - val_loss: 0.4440 - val_sparse_categorical_accuracy: 0.8228\n",
      "Epoch 17/50\n",
      "\u001b[1m40/40\u001b[0m \u001b[32m━━━━━━━━━━━━━━━━━━━━\u001b[0m\u001b[37m\u001b[0m \u001b[1m56s\u001b[0m 1s/step - loss: 0.3987 - sparse_categorical_accuracy: 0.8527 - val_loss: 0.3972 - val_sparse_categorical_accuracy: 0.8448\n",
      "Epoch 18/50\n",
      "\u001b[1m40/40\u001b[0m \u001b[32m━━━━━━━━━━━━━━━━━━━━\u001b[0m\u001b[37m\u001b[0m \u001b[1m64s\u001b[0m 2s/step - loss: 0.3493 - sparse_categorical_accuracy: 0.8757 - val_loss: 0.3673 - val_sparse_categorical_accuracy: 0.8572\n",
      "Epoch 19/50\n",
      "\u001b[1m40/40\u001b[0m \u001b[32m━━━━━━━━━━━━━━━━━━━━\u001b[0m\u001b[37m\u001b[0m \u001b[1m45s\u001b[0m 1s/step - loss: 0.3141 - sparse_categorical_accuracy: 0.8906 - val_loss: 0.3423 - val_sparse_categorical_accuracy: 0.8676\n",
      "Epoch 20/50\n",
      "\u001b[1m40/40\u001b[0m \u001b[32m━━━━━━━━━━━━━━━━━━━━\u001b[0m\u001b[37m\u001b[0m \u001b[1m69s\u001b[0m 2s/step - loss: 0.2870 - sparse_categorical_accuracy: 0.9025 - val_loss: 0.3392 - val_sparse_categorical_accuracy: 0.8682\n",
      "Epoch 21/50\n",
      "\u001b[1m40/40\u001b[0m \u001b[32m━━━━━━━━━━━━━━━━━━━━\u001b[0m\u001b[37m\u001b[0m \u001b[1m44s\u001b[0m 1s/step - loss: 0.2459 - sparse_categorical_accuracy: 0.9119 - val_loss: 0.3306 - val_sparse_categorical_accuracy: 0.8696\n",
      "Epoch 22/50\n",
      "\u001b[1m40/40\u001b[0m \u001b[32m━━━━━━━━━━━━━━━━━━━━\u001b[0m\u001b[37m\u001b[0m \u001b[1m70s\u001b[0m 798ms/step - loss: 0.2302 - sparse_categorical_accuracy: 0.9183 - val_loss: 0.3126 - val_sparse_categorical_accuracy: 0.8742\n",
      "Epoch 23/50\n",
      "\u001b[1m40/40\u001b[0m \u001b[32m━━━━━━━━━━━━━━━━━━━━\u001b[0m\u001b[37m\u001b[0m \u001b[1m102s\u001b[0m 3s/step - loss: 0.2063 - sparse_categorical_accuracy: 0.9303 - val_loss: 0.3043 - val_sparse_categorical_accuracy: 0.8794\n",
      "Epoch 24/50\n",
      "\u001b[1m40/40\u001b[0m \u001b[32m━━━━━━━━━━━━━━━━━━━━\u001b[0m\u001b[37m\u001b[0m \u001b[1m41s\u001b[0m 1s/step - loss: 0.2045 - sparse_categorical_accuracy: 0.9319 - val_loss: 0.3119 - val_sparse_categorical_accuracy: 0.8780\n",
      "Epoch 25/50\n",
      "\u001b[1m40/40\u001b[0m \u001b[32m━━━━━━━━━━━━━━━━━━━━\u001b[0m\u001b[37m\u001b[0m \u001b[1m67s\u001b[0m 2s/step - loss: 0.1785 - sparse_categorical_accuracy: 0.9394 - val_loss: 0.3317 - val_sparse_categorical_accuracy: 0.8774\n",
      "Epoch 26/50\n",
      "\u001b[1m40/40\u001b[0m \u001b[32m━━━━━━━━━━━━━━━━━━━━\u001b[0m\u001b[37m\u001b[0m \u001b[1m79s\u001b[0m 2s/step - loss: 0.1634 - sparse_categorical_accuracy: 0.9447 - val_loss: 0.3277 - val_sparse_categorical_accuracy: 0.8800\n",
      "Epoch 27/50\n",
      "\u001b[1m40/40\u001b[0m \u001b[32m━━━━━━━━━━━━━━━━━━━━\u001b[0m\u001b[37m\u001b[0m \u001b[1m54s\u001b[0m 1s/step - loss: 0.1552 - sparse_categorical_accuracy: 0.9487 - val_loss: 0.3412 - val_sparse_categorical_accuracy: 0.8752\n",
      "Epoch 28/50\n",
      "\u001b[1m40/40\u001b[0m \u001b[32m━━━━━━━━━━━━━━━━━━━━\u001b[0m\u001b[37m\u001b[0m \u001b[1m75s\u001b[0m 2s/step - loss: 0.1600 - sparse_categorical_accuracy: 0.9469 - val_loss: 0.3384 - val_sparse_categorical_accuracy: 0.8824\n",
      "Epoch 28: early stopping\n"
     ]
    }
   ],
   "source": [
    "early_stop = keras.callbacks.EarlyStopping( # Configurando um callback que interrompe o treinamento do modelo caso o desempenho pare de melhorar, com base em métricas monitoradas\n",
    "    patience = 5, # Definindo o patience, que é o número de epochs consecutivas em que a métrica monitorada pode não melhorar antes de interromper o treinamento\n",
    "    verbose = 1, # Definindo o verbose para exibir a informação de quando o callback for acionado caso aconteça\n",
    "    min_delta = 1E-4, # Definindo a menor diferença aceitável para considerar que houve melhora em uma métrica monitorada\n",
    ")\n",
    "\n",
    "history = model.fit( # Treinando o modelo e armazenando o seu resultado em uma variável\n",
    "    x_train, # Passando os valores de x de treino\n",
    "    y_train, # Passando os valores de y de treino\n",
    "    epochs = 50, # Definindo o número máximo de epochs, ou seja, quantas vezes o modelo passará por todo o conjunto de treino durante o ajuste\n",
    "    batch_size = 512, # Definindo o batch size, que é o número de amostras processadas de uma só vez antes de atualizar os pesos do modelo\n",
    "    validation_split = 0.2, # Definindo a proporção dos dados de treino que será separada para validação\n",
    "    verbose = 1, # Exibindo o andamento do treinamento do modelo\n",
    "    callbacks = [early_stop] # Definindo o callback com a condição de parada definida anteriormente para interromper o treinamento do modelo\n",
    ")"
   ]
  },
  {
   "cell_type": "markdown",
   "metadata": {},
   "source": [
    "### Fazendo o evaluate do modelo"
   ]
  },
  {
   "cell_type": "code",
   "execution_count": 13,
   "metadata": {},
   "outputs": [
    {
     "name": "stdout",
     "output_type": "stream",
     "text": [
      "\u001b[1m782/782\u001b[0m \u001b[32m━━━━━━━━━━━━━━━━━━━━\u001b[0m\u001b[37m\u001b[0m \u001b[1m39s\u001b[0m 50ms/step - loss: 0.3978 - sparse_categorical_accuracy: 0.8529\n"
     ]
    },
    {
     "data": {
      "text/plain": [
       "[0.3974951207637787, 0.8521999716758728]"
      ]
     },
     "execution_count": 13,
     "metadata": {},
     "output_type": "execute_result"
    }
   ],
   "source": [
    "model.evaluate(x_test, y_test) # Fazendo o evaluate do modelo"
   ]
  },
  {
   "cell_type": "markdown",
   "metadata": {},
   "source": [
    "### Verificando possíveis condições de overfitting"
   ]
  },
  {
   "cell_type": "code",
   "execution_count": 14,
   "metadata": {},
   "outputs": [
    {
     "data": {
      "image/png": "[encoded data removed]",
      "text/plain": [
       "<Figure size 640x480 with 1 Axes>"
      ]
     },
     "metadata": {},
     "output_type": "display_data"
    }
   ],
   "source": [
    "plt.plot(history.history['loss'], label='loss') # Plotando os valores de treino\n",
    "plt.plot(history.history['val_loss'], label='val_loss') # Plotando os valores de validação\n",
    "plt.legend() # Exibindo as legendas\n",
    "plt.show() # Exibindo o gráfico"
   ]
  },
  {
   "cell_type": "code",
   "execution_count": 15,
   "metadata": {},
   "outputs": [
    {
     "data": {
      "image/png": "[encoded data removed]",
      "text/plain": [
       "<Figure size 640x480 with 1 Axes>"
      ]
     },
     "metadata": {},
     "output_type": "display_data"
    }
   ],
   "source": [
    "plt.plot(history.history['sparse_categorical_accuracy'], label='accuracy') # Plotando os valores de treino\n",
    "plt.plot(history.history['val_sparse_categorical_accuracy'], label='val_accuracy') # Plotando os valores de validação\n",
    "plt.legend() # Exibindo as legendas\n",
    "plt.show() # Exibindo o gráfico"
   ]
  },
  {
   "cell_type": "markdown",
   "metadata": {},
   "source": [
    "### Fazendo o predict do modelo com uma amostra dos dados"
   ]
  },
  {
   "cell_type": "code",
   "execution_count": 16,
   "metadata": {},
   "outputs": [
    {
     "name": "stdout",
     "output_type": "stream",
     "text": [
      "Review 0:\n",
      "<START> please give this one a miss br br kristy swanson and the rest of the cast rendered terrible performances the sho\n",
      "w is flat flat flat br br i don't know how michael madison could have allowed this one on his plate he almost seemed to \n",
      "know this wasn't going to work out and his performance was quite lacklustre so all you madison fans give this a miss <PA\n",
      "D> <PAD> <PAD> <PAD> <PAD> <PAD> <PAD> <PAD> <PAD> <PAD> <PAD> <PAD> <PAD> <PAD> <PAD> <PAD> <PAD> <PAD> <PAD> <PAD> <PA\n",
      "D> <PAD> <PAD> <PAD> <PAD> <PAD> <PAD> <PAD> <PAD> <PAD> <PAD> <PAD> <PAD> <PAD> <PAD> <PAD> <PAD> <PAD> <PAD> <PAD> <PA\n",
      "D> <PAD> <PAD> <PAD> <PAD> <PAD> <PAD> <PAD> <PAD> <PAD> <PAD> <PAD> <PAD> <PAD> <PAD> <PAD> <PAD> <PAD> <PAD> <PAD> <PA\n",
      "D> <PAD> <PAD> <PAD> <PAD> <PAD> <PAD> <PAD> <PAD> <PAD> <PAD> <PAD> <PAD> <PAD> <PAD> <PAD> <PAD> <PAD> <PAD> <PAD> <PA\n",
      "D> <PAD> <PAD> <PAD> <PAD> <PAD> <PAD> <PAD> <PAD> <PAD> <PAD> <PAD> <PAD> <PAD> <PAD> <PAD> <PAD> <PAD> <PAD> <PAD> <PA\n",
      "D> <PAD> <PAD> <PAD> <PAD> <PAD> <PAD> <PAD> <PAD> <PAD> <PAD> <PAD> <PAD> <PAD> <PAD> <PAD> <PAD> <PAD> <PAD> <PAD> <PA\n",
      "D> <PAD> <PAD> <PAD> <PAD> <PAD> <PAD> <PAD> <PAD> <PAD> <PAD> <PAD> <PAD> <PAD> <PAD> <PAD> <PAD> <PAD> <PAD> <PAD> <PA\n",
      "D> <PAD> <PAD> <PAD> <PAD> <PAD> <PAD> <PAD> <PAD> <PAD> <PAD> <PAD> <PAD> <PAD> <PAD> <PAD> <PAD> <PAD> <PAD> <PAD> <PA\n",
      "D> <PAD> <PAD> <PAD> <PAD> <PAD> <PAD> <PAD> <PAD> <PAD> <PAD> <PAD> <PAD> <PAD> <PAD> <PAD> <PAD> <PAD> <PAD> <PAD> <PA\n",
      "D> <PAD> <PAD> <PAD> <PAD> <PAD> <PAD> <PAD>\n",
      "\n",
      "- Result: Right\n",
      "- Correct Answer: Negative Review\n",
      "- Prediction: Negative Review\n",
      "- Probabilities: Negative Review = 88.0% - Positive Review = 10.1%\n",
      "\n",
      "\n",
      "Review 1:\n",
      "<START> this film requires a lot of patience because it focuses on mood and character development the plot is very simpl\n",
      "e and many of the scenes take place on the same set in frances austen's the sandy dennis character apartment but the fil\n",
      "m builds to a disturbing climax br br the characters create an atmosphere rife with sexual tension and psychological tri\n",
      "ckery it's very interesting that robert altman directed this considering the style and structure of his other films stil\n",
      "l the trademark altman audio style is evident here and there i think what really makes this film work is the brilliant p\n",
      "erformance by sandy dennis it's definitely one of her darker characters but she plays it so perfectly and convincingly t\n",
      "hat it's scary michael burns does a good job as the mute young man regular altman player michael murphy has a small part\n",
      " the solemn moody set fits the content of the story very well in short this movie is a powerful study of loneliness sexu\n",
      "al repression and desperation be patient soak up the atmosphere and pay attention to the wonderfully written script br b\n",
      "r i praise robert altman this is one of his many films that deals with unconventional fascinating subject matter this fi\n",
      "lm is disturbing but it's sincere and it's sure to elicit a strong emotional response from the viewer if you want to see\n",
      " an unusual film some might even say bizarre this is worth the time br br unfortunately it's very difficult to find in v\n",
      "ideo stores you may have to buy\n",
      "\n",
      "- Result: Right\n",
      "- Correct Answer: Positive Review\n",
      "- Prediction: Positive Review\n",
      "- Probabilities: Negative Review = 10.6% - Positive Review = 89.0%\n",
      "\n",
      "\n",
      "Review 2:\n",
      "<START> many animation buffs consider wladyslaw starewicz the great forgotten genius of one special branch of the art pu\n",
      "ppet animation which he invented almost single handedly and as it happened almost accidentally as a young man starewicz \n",
      "was more interested in entomology than the cinema but his unsuccessful attempt to film two stag beetles fighting led to \n",
      "an unexpected breakthrough in film making when he realized he could simulate movement by manipulating beetle carcasses a\n",
      "nd photographing them one frame at a time this discovery led to the production of amazingly elaborate classic short the \n",
      "cameraman's revenge which he made in russia in 1912 at a time when motion picture animation of all sorts was in its infa\n",
      "ncy br br the political tumult of the russian revolution caused starewicz to move to paris where one of his first produc\n",
      "tions coincidentally was a dark political satire variously known as frogland or the frogs who wanted a king a strain of \n",
      "black comedy can be found in almost all of films but here it is very dark indeed aimed more at grown ups who can appreci\n",
      "ate the satirical aspects than children who would most likely find the climax upsetting i'm middle aged and found it pre\n",
      "tty upsetting myself and indeed prints of the film intended for english speaking viewers of the 1920s were given title c\n",
      "ards filled with puns and quips in order to help soften the sharp sting of the finale br br our tale is set in a swamp t\n",
      "he frogland commonwealth where the citizens are unhappy\n",
      "\n",
      "- Result: Right\n",
      "- Correct Answer: Positive Review\n",
      "- Prediction: Positive Review\n",
      "- Probabilities: Negative Review = 9.6% - Positive Review = 90.0%\n",
      "\n",
      "\n",
      "Review 3:\n",
      "<START> i generally love this type of movie however this time i found myself wanting to kick the screen since i can't do\n",
      " that i will just complain about it this was absolutely idiotic the things that happen with the dead kids are very cool \n",
      "but the alive people are absolute idiots i am a grown man pretty big and i can defend myself well however i would not do\n",
      " half the stuff the little girl does in this movie also the mother in this movie is reckless with her children to the po\n",
      "int of neglect i wish i wasn't so angry about her and her actions because i would have otherwise enjoyed the flick what \n",
      "a number she was take my advise and fast forward through everything you see her do until the end also is anyone else get\n",
      "ting sick of watching movies that are filmed so dark anymore one can hardly see what is being filmed as an audience we a\n",
      "re impossibly involved with the actions on the screen so then why the hell can't we have night vision <PAD> <PAD> <PAD> \n",
      "<PAD> <PAD> <PAD> <PAD> <PAD> <PAD> <PAD> <PAD> <PAD> <PAD> <PAD> <PAD> <PAD> <PAD> <PAD> <PAD> <PAD> <PAD> <PAD> <PAD> \n",
      "<PAD> <PAD> <PAD> <PAD> <PAD> <PAD> <PAD> <PAD> <PAD> <PAD> <PAD> <PAD> <PAD> <PAD> <PAD> <PAD> <PAD> <PAD> <PAD> <PAD> \n",
      "<PAD> <PAD> <PAD> <PAD> <PAD> <PAD> <PAD> <PAD> <PAD> <PAD> <PAD> <PAD> <PAD> <PAD> <PAD> <PAD> <PAD> <PAD> <PAD> <PAD> \n",
      "<PAD> <PAD> <PAD> <PAD> <PAD> <PAD> <PAD> <PAD> <PAD> <PAD> <PAD> <PAD>\n",
      "\n",
      "- Result: Right\n",
      "- Correct Answer: Negative Review\n",
      "- Prediction: Negative Review\n",
      "- Probabilities: Negative Review = 76.9% - Positive Review = 22.0%\n",
      "\n",
      "\n",
      "Review 4:\n",
      "<START> like some other people wrote i'm a die hard mario fan and i loved this game br br this game starts slightly bori\n",
      "ng but trust me it's worth it as soon as you start your hooked the levels are fun and exiting they will hook you 'till y\n",
      "our mind turns to mush i'm not kidding this game is also orchestrated and is beautifully done br br to keep this spoiler\n",
      " free i have to keep my mouth shut about details but please try this game it'll be worth it br br story 9 9 action 10 1 \n",
      "it's that good hardness 10 attention grabber 10 average 10 <PAD> <PAD> <PAD> <PAD> <PAD> <PAD> <PAD> <PAD> <PAD> <PAD> <\n",
      "PAD> <PAD> <PAD> <PAD> <PAD> <PAD> <PAD> <PAD> <PAD> <PAD> <PAD> <PAD> <PAD> <PAD> <PAD> <PAD> <PAD> <PAD> <PAD> <PAD> <\n",
      "PAD> <PAD> <PAD> <PAD> <PAD> <PAD> <PAD> <PAD> <PAD> <PAD> <PAD> <PAD> <PAD> <PAD> <PAD> <PAD> <PAD> <PAD> <PAD> <PAD> <\n",
      "PAD> <PAD> <PAD> <PAD> <PAD> <PAD> <PAD> <PAD> <PAD> <PAD> <PAD> <PAD> <PAD> <PAD> <PAD> <PAD> <PAD> <PAD> <PAD> <PAD> <\n",
      "PAD> <PAD> <PAD> <PAD> <PAD> <PAD> <PAD> <PAD> <PAD> <PAD> <PAD> <PAD> <PAD> <PAD> <PAD> <PAD> <PAD> <PAD> <PAD> <PAD> <\n",
      "PAD> <PAD> <PAD> <PAD> <PAD> <PAD> <PAD> <PAD> <PAD> <PAD> <PAD> <PAD> <PAD> <PAD> <PAD> <PAD> <PAD> <PAD> <PAD> <PAD> <\n",
      "PAD> <PAD> <PAD> <PAD> <PAD> <PAD> <PAD> <PAD> <PAD> <PAD> <PAD> <PAD> <PAD> <PAD> <PAD> <PAD> <PAD> <PAD> <PAD> <PAD> <\n",
      "PAD> <PAD> <PAD> <PAD> <PAD> <PAD> <PAD> <PAD> <PAD> <PAD> <PAD> <PAD> <PAD> <PAD> <PAD> <PAD> <PAD> <PAD>\n",
      "\n",
      "- Result: Right\n",
      "- Correct Answer: Positive Review\n",
      "- Prediction: Positive Review\n",
      "- Probabilities: Negative Review = 10.3% - Positive Review = 89.3%\n",
      "\n",
      "\n",
      "Review 5:\n",
      "<START> i'm absolutely disgusted this movie isn't being sold all who love this movie should email disney and increase th\n",
      "e demand for it they'd eventually have to sell it then i'd buy copies for everybody i know everything and everybody in t\n",
      "his movie did a good job and i haven't figured out why disney hasn't put this movie on dvd or on vhs in rental stores at\n",
      " least i haven't seen any copies this is a wicked good movie and should be seen by all the kids in the new generation do\n",
      "n't get to see it and i think they should it should at least be put back on the channel this movie doesn't deserve a che\n",
      "ap download it deserves the real thing i'm them now this movie will be on dvd <PAD> <PAD> <PAD> <PAD> <PAD> <PAD> <PAD> \n",
      "<PAD> <PAD> <PAD> <PAD> <PAD> <PAD> <PAD> <PAD> <PAD> <PAD> <PAD> <PAD> <PAD> <PAD> <PAD> <PAD> <PAD> <PAD> <PAD> <PAD> \n",
      "<PAD> <PAD> <PAD> <PAD> <PAD> <PAD> <PAD> <PAD> <PAD> <PAD> <PAD> <PAD> <PAD> <PAD> <PAD> <PAD> <PAD> <PAD> <PAD> <PAD> \n",
      "<PAD> <PAD> <PAD> <PAD> <PAD> <PAD> <PAD> <PAD> <PAD> <PAD> <PAD> <PAD> <PAD> <PAD> <PAD> <PAD> <PAD> <PAD> <PAD> <PAD> \n",
      "<PAD> <PAD> <PAD> <PAD> <PAD> <PAD> <PAD> <PAD> <PAD> <PAD> <PAD> <PAD> <PAD> <PAD> <PAD> <PAD> <PAD> <PAD> <PAD> <PAD> \n",
      "<PAD> <PAD> <PAD> <PAD> <PAD> <PAD> <PAD> <PAD> <PAD> <PAD> <PAD> <PAD> <PAD> <PAD> <PAD> <PAD> <PAD> <PAD> <PAD> <PAD> \n",
      "<PAD> <PAD> <PAD> <PAD> <PAD> <PAD> <PAD> <PAD> <PAD> <PAD> <PAD> <PAD> <PAD> <PAD> <PAD> <PAD> <PAD>\n",
      "\n",
      "- Result: Right\n",
      "- Correct Answer: Positive Review\n",
      "- Prediction: Positive Review\n",
      "- Probabilities: Negative Review = 38.2% - Positive Review = 61.4%\n",
      "\n",
      "\n",
      "Review 6:\n",
      "<START> originally supposed to be just a part of a huge epic the year 1905 depicting the revolution of 1905 potemkin is \n",
      "the story of the mutiny of the crew of the potemkin in odessa harbor the film opens with the crew protesting meat and th\n",
      "e captain ordering the execution of the an uprising takes place during which the revolutionary leader is killed this cre\n",
      "wman is taken to the shore to lie in state when the townspeople gather on a huge flight of steps overlooking the harbor \n",
      "czarist troops appear and march down the steps breaking up the crowd a naval squadron is sent to retake the potemkin but\n",
      " at the moment when the ships come into range their crews allow the to pass through eisenstein's non historically accura\n",
      "te ending is open ended thus indicating that this was the seed of the later bolshevik revolution that would bloom in rus\n",
      "sia the film is broken into five parts men and maggots drama on the an appeal from the dead the odessa steps and meeting\n",
      " the squadron br br eisenstein was a revolutionary artist but at the genius level not wanting to make a historical drama\n",
      " eisenstein used visual texture to give the film a newsreel look so that the viewer feels he is eavesdropping on a thril\n",
      "ling and politically revolutionary story this technique is used by the battle of algiers br br unlike eisenstein relied \n",
      "on or the casting of non professionals who had striking physical appearances the extraordinary faces of the cast are wha\n",
      "t one remembers\n",
      "\n",
      "- Result: Wrong\n",
      "- Correct Answer: Positive Review\n",
      "- Prediction: Negative Review\n",
      "- Probabilities: Negative Review = 59.5% - Positive Review = 41.1%\n",
      "\n",
      "\n",
      "Review 7:\n",
      "<START> the emperor's richard haydn dog is betrothed to johanna's joan fontaine dog however when virgil bing crosby arri\n",
      "ves in town to sell a record player to the emperor his dog is attacked by johanna's dog after a revenge attack where vir\n",
      "gil is banished from town a psychoanalyst insists that johanna's dog must confront dog so that she can overcome her dogg\n",
      "y fears this is arranged and the dogs fall in love so do virgil and johanna the rest of the film passes by with romance \n",
      "and at the end johanna's dog gives birth but who is the father br br the dog story is the very weak vehicle that is used\n",
      " to try and create a story between humans its a terrible storyline there are 3 main musical pieces all of which are rubb\n",
      "ish bad songs and dreadful choreography its just an extremely boring film bing has too many words in each sentence and d\n",
      "elivers them in an almost irritating manner its not funny ever but its meant to be bing and joan have done much better t\n",
      "han this <PAD> <PAD> <PAD> <PAD> <PAD> <PAD> <PAD> <PAD> <PAD> <PAD> <PAD> <PAD> <PAD> <PAD> <PAD> <PAD> <PAD> <PAD> <PA\n",
      "D> <PAD> <PAD> <PAD> <PAD> <PAD> <PAD> <PAD> <PAD> <PAD> <PAD> <PAD> <PAD> <PAD> <PAD> <PAD> <PAD> <PAD> <PAD> <PAD> <PA\n",
      "D> <PAD> <PAD> <PAD> <PAD> <PAD> <PAD> <PAD> <PAD> <PAD> <PAD> <PAD> <PAD> <PAD> <PAD> <PAD> <PAD> <PAD> <PAD> <PAD> <PA\n",
      "D> <PAD> <PAD> <PAD> <PAD> <PAD> <PAD> <PAD> <PAD> <PAD> <PAD> <PAD> <PAD> <PAD> <PAD> <PAD> <PAD> <PAD>\n",
      "\n",
      "- Result: Right\n",
      "- Correct Answer: Negative Review\n",
      "- Prediction: Negative Review\n",
      "- Probabilities: Negative Review = 87.7% - Positive Review = 10.4%\n",
      "\n",
      "\n",
      "Review 8:\n",
      "<START> hollywood had a long love affair with bogus arabian nights tales but few of these products have stood the test o\n",
      "f time the most memorable were the jon hall maria montez films which have long since become camp this one is filled with\n",
      " dubbed songs anachronistic slang and slapstick it's a truly crop of corn and pretty near intolerable today it was nomin\n",
      "ated for its imaginative special effects which are almost unnoticeable in this day and age consisting mainly of trick ph\n",
      "otography the only outstanding positive feature which survives is its beautiful color and clarity sad to say of the many\n",
      " films made in this genre few of them come up to alexander korda's original thief of baghdad almost any other arabian ni\n",
      "ghts film is superior to this one though it's a loser <PAD> <PAD> <PAD> <PAD> <PAD> <PAD> <PAD> <PAD> <PAD> <PAD> <PAD> \n",
      "<PAD> <PAD> <PAD> <PAD> <PAD> <PAD> <PAD> <PAD> <PAD> <PAD> <PAD> <PAD> <PAD> <PAD> <PAD> <PAD> <PAD> <PAD> <PAD> <PAD> \n",
      "<PAD> <PAD> <PAD> <PAD> <PAD> <PAD> <PAD> <PAD> <PAD> <PAD> <PAD> <PAD> <PAD> <PAD> <PAD> <PAD> <PAD> <PAD> <PAD> <PAD> \n",
      "<PAD> <PAD> <PAD> <PAD> <PAD> <PAD> <PAD> <PAD> <PAD> <PAD> <PAD> <PAD> <PAD> <PAD> <PAD> <PAD> <PAD> <PAD> <PAD> <PAD> \n",
      "<PAD> <PAD> <PAD> <PAD> <PAD> <PAD> <PAD> <PAD> <PAD> <PAD> <PAD> <PAD> <PAD> <PAD> <PAD> <PAD> <PAD> <PAD> <PAD> <PAD> \n",
      "<PAD> <PAD> <PAD> <PAD> <PAD> <PAD> <PAD> <PAD> <PAD> <PAD> <PAD> <PAD> <PAD> <PAD> <PAD> <PAD> <PAD> <PAD> <PAD> <PAD> \n",
      "<PAD> <PAD> <PAD> <PAD> <PAD> <PAD> <PAD> <PAD> <PAD> <PAD> <PAD>\n",
      "\n",
      "- Result: Wrong\n",
      "- Correct Answer: Negative Review\n",
      "- Prediction: Positive Review\n",
      "- Probabilities: Negative Review = 10.8% - Positive Review = 88.8%\n",
      "\n",
      "\n",
      "Review 9:\n",
      "<START> this film is where the batman franchise ought to have stopped though i will concede that the ideas behind batman\n",
      " forever were excellent and could have been easily realised by a competent director as it turned out this was not to be \n",
      "the case br br apparently warner brothers executives were disappointed with how dark this second batman film from tim bu\n",
      "rton turned out apart from the idiocy of expecting anything else from burton and the conservative cowardice of their sub\n",
      "sequent decision to turn the franchise into an homage to the sixties tv series i fail to understand how batman returns c\n",
      "an be considered at all disappointing br br true it is not quite the equal of the first film though it repairs all the m\n",
      "inor deficiencies of style found in batman a weaker script that splits the antagonism between not just two but three cha\n",
      "racters invites unflattering comparisons to the masterful pairing of keaton and jack nicholson as the joker in the first\n",
      " film yet for all this it remains a gorgeously dark film true to the way the batman was always meant to be and highly sa\n",
      "tisfying br br michael keaton returns as the batman and his alter ego bruce wayne with tycoon max schreck christopher wa\n",
      "lken named in honour of the 1920s german silent actor his partner in crime oswald cobblepot the penguin danny devito in \n",
      "brilliant makeup reminiscent of laurence olivier's richard iii and selina kyle the catwoman michelle pfeiffer whom wayne\n",
      " romances both as himself and as the batman the\n",
      "\n",
      "- Result: Wrong\n",
      "- Correct Answer: Positive Review\n",
      "- Prediction: Negative Review\n",
      "- Probabilities: Negative Review = 68.2% - Positive Review = 31.4%\n",
      "\n",
      "\n"
     ]
    }
   ],
   "source": [
    "for i in range (10): # Criando uma estrutura de repetição para avaliar os 10 primeiros reviews\n",
    "    \n",
    "    print(f'Review {i}:') # Printando o número do review\n",
    "    decoded_text = decode_review(x_test[i], word_index) # Usando a função para decodificar e visualizar o primeiro review, passando um review e o dicionário de palavras\n",
    "    print('\\n'.join([decoded_text[i:i+120] for i in range(0, len(decoded_text), 120)])) # Printando o texto com limite de 120 caracteres\n",
    "\n",
    "    print() # Printando uma linha vazia para separar o texto das previsões\n",
    "\n",
    "    prediction = np.argmax(model.predict(np.expand_dims(x_test[i], axis=0), verbose=0)) # Armazenando em variável a previsão para otimizar o código ao printar logo abaixo\n",
    "    probabilities = model.predict(np.expand_dims(x_test[i], axis=0), verbose=0).flatten() # Armazenando em variável as probabilidades para otimizar o código ao printar logo abaixo\n",
    "    print('- Result:', 'Right' if y_test[i] == prediction else 'Wrong') # Printando o resultado da previsão\n",
    "    print('- Correct Answer:', 'Negative Review' if y_test[i] == 0 else 'Positive Review') # Printando a resposta correta\n",
    "    print('- Prediction:', 'Negative Review' if prediction == 0 else 'Positive Review') # Printando a previsão do modelo\n",
    "    print(f'- Probabilities: Negative Review = {probabilities[0] * 100:.1f}% - Positive Review = {probabilities[1] * 100:.1f}%') # Printando as probabilidades de cada possível resposta\n",
    "    \n",
    "    print('\\n') # Printando duas linhas vazias para separar os reviews"
   ]
  },
  {
   "cell_type": "markdown",
   "metadata": {},
   "source": [
    "### Testando o modelo com reviews criados manualmente"
   ]
  },
  {
   "cell_type": "code",
   "execution_count": 17,
   "metadata": {},
   "outputs": [],
   "source": [
    "positive_review = 'Excellent actors, incredible cast, and flawless performances. A true work of art that deserves to be appreciated on the big screen. A beautiful job by the director and the entire team of writers and producers! However, the cinematography of the film left something to be desired; it could have been better.' # Armazenando em uma variável um review positivo\n",
    "negative_review = 'I really would not spend my money if I knew this was a terrible movie. A big waste of time and money on the ticket. But in the end, we can highlight some positives, such as the cast is performances and a great ending to the film.' # Armazenando em uma variável um review negativo"
   ]
  },
  {
   "cell_type": "code",
   "execution_count": 18,
   "metadata": {},
   "outputs": [],
   "source": [
    "def encode_review(text, index): # Criando uma função para transformar os reviews, de um texto normal para uma sequência de números, passando um texto e o dicionário de palavras\n",
    "    text = text.translate(str.maketrans('', '', string.punctuation)).lower() # Tratando o texto, removendo pontuações e transformando todo o texto em letra minúscula\n",
    "    return [index.get(word, 2) for word in text.split(' ')] # Retornando o texto transformado em uma sequência de números com base no dicionário de palavras"
   ]
  },
  {
   "cell_type": "code",
   "execution_count": 19,
   "metadata": {},
   "outputs": [],
   "source": [
    "positive_review = keras.utils.pad_sequences( # Ajustando o novo valor do review para otimizar os recursos de processamento, limitando os reviews em 50 tokens (nesse caso, palavras). Para reviews menores, serão preenchidos com <PAD>. Para reviews maiores, serão cortados em 50 tokens.\n",
    "    [encode_review(positive_review, word_index)], # Passando os dados que serão alterados\n",
    "    value=word_index['<PAD>'], # Passando o valor que preenchera os espaços vazios caso os reviews tenham menos de 50 tokens\n",
    "    padding='post', # Definindo se os reviews com menos de 50 tokens, vão ser preenchidos com <PAD> no início ou no final\n",
    "    truncating='post', # Definindo se os reviews com mais de 50 tokens, vão ser cortados no início ou no final\n",
    "    maxlen=50 # Definindo o número máximo de tokens\n",
    ")\n",
    "\n",
    "negative_review = keras.utils.pad_sequences( # Ajustando o novo valor do review para otimizar os recursos de processamento, limitando os reviews em 50 tokens (nesse caso, palavras). Para reviews menores, serão preenchidos com <PAD>. Para reviews maiores, serão cortados em 50 tokens.\n",
    "    [encode_review(negative_review, word_index)], # Passando os dados que serão alterados\n",
    "    value=word_index['<PAD>'], # Passando o valor que preenchera os espaços vazios caso os reviews tenham menos de 50 tokens\n",
    "    padding='post', # Definindo se os reviews com menos de 50 tokens, vão ser preenchidos com <PAD> no início ou no final\n",
    "    truncating='post', # Definindo se os reviews com mais de 50 tokens, vão ser cortados no início ou no final\n",
    "    maxlen=50 # Definindo o número máximo de tokens\n",
    ")"
   ]
  },
  {
   "cell_type": "code",
   "execution_count": 20,
   "metadata": {},
   "outputs": [],
   "source": [
    "x_test_manual = [positive_review, negative_review] # Definindo o x de teste com os reviews manuais\n",
    "y_test_manual = [1, 0] # Definindo o y de teste com os reviews manuais"
   ]
  },
  {
   "cell_type": "code",
   "execution_count": 21,
   "metadata": {},
   "outputs": [
    {
     "name": "stdout",
     "output_type": "stream",
     "text": [
      "Review 0:\n",
      "excellent actors incredible cast and flawless performances a true work of art that deserves to be appreciated on the big\n",
      " screen a beautiful job by the director and the entire team of writers and producers however the cinematography of the f\n",
      "ilm left something to be desired it could have been\n",
      "\n",
      "- Result: Right\n",
      "- Correct Answer: Positive Review\n",
      "- Prediction: Positive Review\n",
      "- Probabilities: Negative Review = 36.1% - Positive Review = 62.7%\n",
      "\n",
      "\n",
      "Review 1:\n",
      "i really would not spend my money if i knew this was a terrible movie a big waste of time and money on the ticket but in\n",
      " the end we can highlight some positives such as the cast is performances and a great ending to the film <PAD> <PAD> <PA\n",
      "D>\n",
      "\n",
      "- Result: Right\n",
      "- Correct Answer: Negative Review\n",
      "- Prediction: Negative Review\n",
      "- Probabilities: Negative Review = 60.9% - Positive Review = 39.6%\n",
      "\n",
      "\n"
     ]
    }
   ],
   "source": [
    "for i in range (len(x_test_manual)): # Criando uma estrutura de repetição para avaliar os reviews\n",
    "    \n",
    "    print(f'Review {i}:') # Printando o número do review\n",
    "    decoded_text = decode_review(x_test_manual[i][0], word_index) # Usando a função para decodificar e visualizar o primeiro review, passando um review e o dicionário de palavras\n",
    "    print('\\n'.join([decoded_text[i:i+120] for i in range(0, len(decoded_text), 120)])) # Printando o texto com limite de 120 caracteres\n",
    "\n",
    "    print() # Printando uma linha vazia para separar o texto das previsões\n",
    "\n",
    "    prediction = np.argmax(model.predict(np.expand_dims(x_test_manual[i][0], axis=0), verbose=0)) # Armazenando em variável a previsão para otimizar o código ao printar logo abaixo\n",
    "    probabilities = model.predict(np.expand_dims(x_test_manual[i][0], axis=0), verbose=0).flatten() # Armazenando em variável as probabilidades para otimizar o código ao printar logo abaixo\n",
    "    print('- Result:', 'Right' if y_test_manual[i] == prediction else 'Wrong') # Printando o resultado da previsão\n",
    "    print('- Correct Answer:', 'Negative Review' if y_test_manual[i] == 0 else 'Positive Review') # Printando a resposta correta\n",
    "    print('- Prediction:', 'Negative Review' if prediction == 0 else 'Positive Review') # Printando a previsão do modelo\n",
    "    print(f'- Probabilities: Negative Review = {probabilities[0] * 100:.1f}% - Positive Review = {probabilities[1] * 100:.1f}%') # Printando as probabilidades de cada possível resposta\n",
    "    \n",
    "    print('\\n') # Printando duas linhas vazias para separar os reviews"
   ]
  }
 ],
 "metadata": {
  "kernelspec": {
   "display_name": "Python 3",
   "language": "python",
   "name": "python3"
  },
  "language_info": {
   "codemirror_mode": {
    "name": "ipython",
    "version": 3
   },
   "file_extension": ".py",
   "mimetype": "text/x-python",
   "name": "python",
   "nbconvert_exporter": "python",
   "pygments_lexer": "ipython3",
   "version": "3.12.4"
  }
 },
 "nbformat": 4,
 "nbformat_minor": 2
}
