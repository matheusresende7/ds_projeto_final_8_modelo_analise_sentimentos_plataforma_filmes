{
 "cells": [
  {
   "cell_type": "markdown",
   "metadata": {},
   "source": [
    "# 02. Model - Initial"
   ]
  },
  {
   "cell_type": "markdown",
   "metadata": {},
   "source": [
    "### Importando as bibliotecas"
   ]
  },
  {
   "cell_type": "code",
   "execution_count": 1,
   "metadata": {},
   "outputs": [],
   "source": [
    "import sys\n",
    "import os\n",
    "from pathlib import Path\n",
    "sys.path.append('..')\n",
    "import pandas as pd\n",
    "import numpy as np\n",
    "import matplotlib.pyplot as plt\n",
    "import tensorflow as tf\n",
    "from tensorflow import keras"
   ]
  },
  {
   "cell_type": "markdown",
   "metadata": {},
   "source": [
    "### Configurando para serem exibidas apenas mensagens de erro no Tensor Flow"
   ]
  },
  {
   "cell_type": "code",
   "execution_count": 2,
   "metadata": {},
   "outputs": [],
   "source": [
    "os.environ['TF_CPP_MIN_LOG_LEVEL'] = '2' # Configurando para serem exibidas apenas mensagens de erro no Tensor Flow"
   ]
  },
  {
   "cell_type": "markdown",
   "metadata": {},
   "source": [
    "### Lendo o dataset"
   ]
  },
  {
   "cell_type": "code",
   "execution_count": 3,
   "metadata": {},
   "outputs": [],
   "source": [
    "df = keras.datasets.imdb # Armazenando o dataset em uma variável"
   ]
  },
  {
   "cell_type": "code",
   "execution_count": 4,
   "metadata": {},
   "outputs": [],
   "source": [
    "(x_train, y_train), (x_test, y_test) = df.load_data() # Armazenando os dados do df já divididos em X e Y de treino e teste"
   ]
  },
  {
   "cell_type": "code",
   "execution_count": 5,
   "metadata": {},
   "outputs": [],
   "source": [
    "word_index = df.get_word_index() # Armazenando o dicionário de palavras em uma variável"
   ]
  },
  {
   "cell_type": "code",
   "execution_count": 6,
   "metadata": {},
   "outputs": [],
   "source": [
    "word_index = {chave: (valor + 3) for chave, valor in word_index.items()} # Adicionando 4 espaços no dicionário para inserir tokens especiais para NLP: PAD, START, UNK e UNUSED"
   ]
  },
  {
   "cell_type": "code",
   "execution_count": 7,
   "metadata": {},
   "outputs": [],
   "source": [
    "# Adicionando os tokens especiais em suas respectivas posições\n",
    "word_index['<PAD>'] = 0\n",
    "word_index['<START>'] = 1\n",
    "word_index['<UNK>'] = 2\n",
    "word_index['<UNUSED>'] = 3"
   ]
  },
  {
   "cell_type": "code",
   "execution_count": 8,
   "metadata": {},
   "outputs": [],
   "source": [
    "x_train = keras.utils.pad_sequences( # Ajustando o novo valor de x de treino para otimizar os recursos de processamento, limitando os reviews em 256 tokens (nesse caso, palavras). Para reviews menores, serão preenchidos com <PAD>. Para reviews maiores, serão cortados em 256 tokens.\n",
    "    x_train, # Passando os dados que serão alterados\n",
    "    value=word_index['<PAD>'], # Passando o valor que preenchera os espaços vazios caso os reviews tenham menos de 256 tokens\n",
    "    padding='post', # Definindo se os reviews com menos de 256 tokens, vão ser preenchidos com <PAD> no início ou no final\n",
    "    truncating='post', # Definindo se os reviews com mais de 256 tokens, vão ser cortados no início ou no final\n",
    "    maxlen=256 # Definindo o número máximo de tokens\n",
    ")"
   ]
  },
  {
   "cell_type": "code",
   "execution_count": 9,
   "metadata": {},
   "outputs": [],
   "source": [
    "x_test = keras.utils.pad_sequences( # Ajustando o novo valor de x de teste para otimizar os recursos de processamento, limitando os reviews em 256 tokens (nesse caso, palavras). Para reviews menores, serão preenchidos com <PAD>. Para reviews maiores, serão cortados em 256 tokens.\n",
    "    x_test, # Passando os dados que serão alterados\n",
    "    value=word_index['<PAD>'], # Passando o valor que preenchera os espaços vazios caso os reviews tenham menos de 256 tokens\n",
    "    padding='post', # Definindo se os reviews com menos de 256 tokens, vão ser preenchidos com <PAD> no início ou no final\n",
    "    truncating='post', # Definindo se os reviews com mais de 256 tokens, vão ser cortados no início ou no final\n",
    "    maxlen=256 # Definindo o número máximo de tokens\n",
    ")"
   ]
  },
  {
   "cell_type": "code",
   "execution_count": 16,
   "metadata": {},
   "outputs": [],
   "source": [
    "def decode_review(text, index): # Criando uma função para transformar os reviews, de sequência de números para um texto normal que pode ser lido, passando um texto e o dicionário de palavras\n",
    "    reverse_index = {value: key for key, value in index.items()} # Invertendo o dicionário anterior de palavras para números, para números para palavras\n",
    "    return ' '.join([reverse_index.get(value, '<UNK>') for value in text]) # Retorna o texto do review, percorrendo cada número e buscando sua palavra correspondente"
   ]
  },
  {
   "cell_type": "markdown",
   "metadata": {},
   "source": [
    "### Definindo o modelo Keras a partir de um pipeline"
   ]
  },
  {
   "cell_type": "code",
   "execution_count": 10,
   "metadata": {},
   "outputs": [
    {
     "name": "stderr",
     "output_type": "stream",
     "text": [
      "c:\\Users\\mathe\\AppData\\Local\\Programs\\Python\\Python312\\Lib\\site-packages\\keras\\src\\layers\\core\\input_layer.py:26: UserWarning: Argument `input_shape` is deprecated. Use `shape` instead.\n",
      "  warnings.warn(\n"
     ]
    },
    {
     "data": {
      "text/html": [
       "<pre style=\"white-space:pre;overflow-x:auto;line-height:normal;font-family:Menlo,'DejaVu Sans Mono',consolas,'Courier New',monospace\"><span style=\"font-weight: bold\">Model: \"sequential\"</span>\n",
       "</pre>\n"
      ],
      "text/plain": [
       "\u001b[1mModel: \"sequential\"\u001b[0m\n"
      ]
     },
     "metadata": {},
     "output_type": "display_data"
    },
    {
     "data": {
      "text/html": [
       "<pre style=\"white-space:pre;overflow-x:auto;line-height:normal;font-family:Menlo,'DejaVu Sans Mono',consolas,'Courier New',monospace\">┏━━━━━━━━━━━━━━━━━━━━━━━━━━━━━━━━━┳━━━━━━━━━━━━━━━━━━━━━━━━┳━━━━━━━━━━━━━━━┓\n",
       "┃<span style=\"font-weight: bold\"> Layer (type)                    </span>┃<span style=\"font-weight: bold\"> Output Shape           </span>┃<span style=\"font-weight: bold\">       Param # </span>┃\n",
       "┡━━━━━━━━━━━━━━━━━━━━━━━━━━━━━━━━━╇━━━━━━━━━━━━━━━━━━━━━━━━╇━━━━━━━━━━━━━━━┩\n",
       "│ embedding (<span style=\"color: #0087ff; text-decoration-color: #0087ff\">Embedding</span>)           │ (<span style=\"color: #00d7ff; text-decoration-color: #00d7ff\">None</span>, <span style=\"color: #00af00; text-decoration-color: #00af00\">256</span>, <span style=\"color: #00af00; text-decoration-color: #00af00\">64</span>)        │     <span style=\"color: #00af00; text-decoration-color: #00af00\">5,669,632</span> │\n",
       "├─────────────────────────────────┼────────────────────────┼───────────────┤\n",
       "│ global_average_pooling1d        │ (<span style=\"color: #00d7ff; text-decoration-color: #00d7ff\">None</span>, <span style=\"color: #00af00; text-decoration-color: #00af00\">64</span>)             │             <span style=\"color: #00af00; text-decoration-color: #00af00\">0</span> │\n",
       "│ (<span style=\"color: #0087ff; text-decoration-color: #0087ff\">GlobalAveragePooling1D</span>)        │                        │               │\n",
       "├─────────────────────────────────┼────────────────────────┼───────────────┤\n",
       "│ dense (<span style=\"color: #0087ff; text-decoration-color: #0087ff\">Dense</span>)                   │ (<span style=\"color: #00d7ff; text-decoration-color: #00d7ff\">None</span>, <span style=\"color: #00af00; text-decoration-color: #00af00\">2</span>)              │           <span style=\"color: #00af00; text-decoration-color: #00af00\">130</span> │\n",
       "└─────────────────────────────────┴────────────────────────┴───────────────┘\n",
       "</pre>\n"
      ],
      "text/plain": [
       "┏━━━━━━━━━━━━━━━━━━━━━━━━━━━━━━━━━┳━━━━━━━━━━━━━━━━━━━━━━━━┳━━━━━━━━━━━━━━━┓\n",
       "┃\u001b[1m \u001b[0m\u001b[1mLayer (type)                   \u001b[0m\u001b[1m \u001b[0m┃\u001b[1m \u001b[0m\u001b[1mOutput Shape          \u001b[0m\u001b[1m \u001b[0m┃\u001b[1m \u001b[0m\u001b[1m      Param #\u001b[0m\u001b[1m \u001b[0m┃\n",
       "┡━━━━━━━━━━━━━━━━━━━━━━━━━━━━━━━━━╇━━━━━━━━━━━━━━━━━━━━━━━━╇━━━━━━━━━━━━━━━┩\n",
       "│ embedding (\u001b[38;5;33mEmbedding\u001b[0m)           │ (\u001b[38;5;45mNone\u001b[0m, \u001b[38;5;34m256\u001b[0m, \u001b[38;5;34m64\u001b[0m)        │     \u001b[38;5;34m5,669,632\u001b[0m │\n",
       "├─────────────────────────────────┼────────────────────────┼───────────────┤\n",
       "│ global_average_pooling1d        │ (\u001b[38;5;45mNone\u001b[0m, \u001b[38;5;34m64\u001b[0m)             │             \u001b[38;5;34m0\u001b[0m │\n",
       "│ (\u001b[38;5;33mGlobalAveragePooling1D\u001b[0m)        │                        │               │\n",
       "├─────────────────────────────────┼────────────────────────┼───────────────┤\n",
       "│ dense (\u001b[38;5;33mDense\u001b[0m)                   │ (\u001b[38;5;45mNone\u001b[0m, \u001b[38;5;34m2\u001b[0m)              │           \u001b[38;5;34m130\u001b[0m │\n",
       "└─────────────────────────────────┴────────────────────────┴───────────────┘\n"
      ]
     },
     "metadata": {},
     "output_type": "display_data"
    },
    {
     "data": {
      "text/html": [
       "<pre style=\"white-space:pre;overflow-x:auto;line-height:normal;font-family:Menlo,'DejaVu Sans Mono',consolas,'Courier New',monospace\"><span style=\"font-weight: bold\"> Total params: </span><span style=\"color: #00af00; text-decoration-color: #00af00\">5,669,762</span> (21.63 MB)\n",
       "</pre>\n"
      ],
      "text/plain": [
       "\u001b[1m Total params: \u001b[0m\u001b[38;5;34m5,669,762\u001b[0m (21.63 MB)\n"
      ]
     },
     "metadata": {},
     "output_type": "display_data"
    },
    {
     "data": {
      "text/html": [
       "<pre style=\"white-space:pre;overflow-x:auto;line-height:normal;font-family:Menlo,'DejaVu Sans Mono',consolas,'Courier New',monospace\"><span style=\"font-weight: bold\"> Trainable params: </span><span style=\"color: #00af00; text-decoration-color: #00af00\">5,669,762</span> (21.63 MB)\n",
       "</pre>\n"
      ],
      "text/plain": [
       "\u001b[1m Trainable params: \u001b[0m\u001b[38;5;34m5,669,762\u001b[0m (21.63 MB)\n"
      ]
     },
     "metadata": {},
     "output_type": "display_data"
    },
    {
     "data": {
      "text/html": [
       "<pre style=\"white-space:pre;overflow-x:auto;line-height:normal;font-family:Menlo,'DejaVu Sans Mono',consolas,'Courier New',monospace\"><span style=\"font-weight: bold\"> Non-trainable params: </span><span style=\"color: #00af00; text-decoration-color: #00af00\">0</span> (0.00 B)\n",
       "</pre>\n"
      ],
      "text/plain": [
       "\u001b[1m Non-trainable params: \u001b[0m\u001b[38;5;34m0\u001b[0m (0.00 B)\n"
      ]
     },
     "metadata": {},
     "output_type": "display_data"
    }
   ],
   "source": [
    "# Etapa inicial\n",
    "model = keras.models.Sequential() # Instanciando o modelo\n",
    "\n",
    "# Etapas de pré processamento\n",
    "model.add(keras.layers.InputLayer(input_shape=(256,))) # Passando o shape dos dados para o modelo (Conforme definido o limite de tokens)\n",
    "model.add(keras.layers.Embedding(len(word_index), 64)) # Passando o embedding para fazer a segmentação das palavras\n",
    "model.add(keras.layers.GlobalAveragePooling1D()) # Adicionando o Global Average Pooling visando ajustar o shape de entrada com o de saída, partindo de 3 dimensões sendo que é esperado 2 dimensões\n",
    "\n",
    "# Etapas de camadas ocultas\n",
    "model.add(keras.layers.Dense(2, activation='sigmoid')) # Passando a camada de entrada (2 = tipos de classificação (positiva ou negativa))\n",
    "\n",
    "model.summary() # Exibindo o resumo do treinamento"
   ]
  },
  {
   "cell_type": "markdown",
   "metadata": {},
   "source": [
    "### Compilando o modelo"
   ]
  },
  {
   "cell_type": "code",
   "execution_count": 11,
   "metadata": {},
   "outputs": [],
   "source": [
    "optimizer = keras.optimizers.Adam() # Definindo o otimizador\n",
    "loss = keras.losses.SparseCategoricalCrossentropy() # Definindo a função de busca\n",
    "metric = keras.metrics.SparseCategoricalAccuracy() # Definindo a métrica a ser considerada durante o treinamento\n",
    "\n",
    "model.compile(optimizer=optimizer, loss=loss, metrics=[metric]) # Compilando o modelo"
   ]
  },
  {
   "cell_type": "markdown",
   "metadata": {},
   "source": [
    "### Treinando o modelo"
   ]
  },
  {
   "cell_type": "code",
   "execution_count": 12,
   "metadata": {},
   "outputs": [
    {
     "name": "stdout",
     "output_type": "stream",
     "text": [
      "Epoch 1/20\n",
      "\u001b[1m40/40\u001b[0m \u001b[32m━━━━━━━━━━━━━━━━━━━━\u001b[0m\u001b[37m\u001b[0m \u001b[1m3s\u001b[0m 48ms/step - loss: 0.6873 - sparse_categorical_accuracy: 0.5847 - val_loss: 0.6623 - val_sparse_categorical_accuracy: 0.6966\n",
      "Epoch 2/20\n",
      "\u001b[1m40/40\u001b[0m \u001b[32m━━━━━━━━━━━━━━━━━━━━\u001b[0m\u001b[37m\u001b[0m \u001b[1m2s\u001b[0m 43ms/step - loss: 0.6540 - sparse_categorical_accuracy: 0.6806 - val_loss: 0.6155 - val_sparse_categorical_accuracy: 0.7504\n",
      "Epoch 3/20\n",
      "\u001b[1m40/40\u001b[0m \u001b[32m━━━━━━━━━━━━━━━━━━━━\u001b[0m\u001b[37m\u001b[0m \u001b[1m2s\u001b[0m 41ms/step - loss: 0.6037 - sparse_categorical_accuracy: 0.7433 - val_loss: 0.5717 - val_sparse_categorical_accuracy: 0.7254\n",
      "Epoch 4/20\n",
      "\u001b[1m40/40\u001b[0m \u001b[32m━━━━━━━━━━━━━━━━━━━━\u001b[0m\u001b[37m\u001b[0m \u001b[1m2s\u001b[0m 43ms/step - loss: 0.5480 - sparse_categorical_accuracy: 0.7630 - val_loss: 0.5145 - val_sparse_categorical_accuracy: 0.7998\n",
      "Epoch 5/20\n",
      "\u001b[1m40/40\u001b[0m \u001b[32m━━━━━━━━━━━━━━━━━━━━\u001b[0m\u001b[37m\u001b[0m \u001b[1m2s\u001b[0m 41ms/step - loss: 0.4913 - sparse_categorical_accuracy: 0.8168 - val_loss: 0.4727 - val_sparse_categorical_accuracy: 0.8216\n",
      "Epoch 6/20\n",
      "\u001b[1m40/40\u001b[0m \u001b[32m━━━━━━━━━━━━━━━━━━━━\u001b[0m\u001b[37m\u001b[0m \u001b[1m2s\u001b[0m 42ms/step - loss: 0.4458 - sparse_categorical_accuracy: 0.8382 - val_loss: 0.4378 - val_sparse_categorical_accuracy: 0.8364\n",
      "Epoch 7/20\n",
      "\u001b[1m40/40\u001b[0m \u001b[32m━━━━━━━━━━━━━━━━━━━━\u001b[0m\u001b[37m\u001b[0m \u001b[1m2s\u001b[0m 41ms/step - loss: 0.4085 - sparse_categorical_accuracy: 0.8526 - val_loss: 0.4124 - val_sparse_categorical_accuracy: 0.8460\n",
      "Epoch 8/20\n",
      "\u001b[1m40/40\u001b[0m \u001b[32m━━━━━━━━━━━━━━━━━━━━\u001b[0m\u001b[37m\u001b[0m \u001b[1m2s\u001b[0m 40ms/step - loss: 0.3803 - sparse_categorical_accuracy: 0.8603 - val_loss: 0.4020 - val_sparse_categorical_accuracy: 0.8302\n",
      "Epoch 9/20\n",
      "\u001b[1m40/40\u001b[0m \u001b[32m━━━━━━━━━━━━━━━━━━━━\u001b[0m\u001b[37m\u001b[0m \u001b[1m2s\u001b[0m 43ms/step - loss: 0.3612 - sparse_categorical_accuracy: 0.8644 - val_loss: 0.3774 - val_sparse_categorical_accuracy: 0.8520\n",
      "Epoch 10/20\n",
      "\u001b[1m40/40\u001b[0m \u001b[32m━━━━━━━━━━━━━━━━━━━━\u001b[0m\u001b[37m\u001b[0m \u001b[1m2s\u001b[0m 42ms/step - loss: 0.3303 - sparse_categorical_accuracy: 0.8835 - val_loss: 0.3741 - val_sparse_categorical_accuracy: 0.8374\n",
      "Epoch 11/20\n",
      "\u001b[1m40/40\u001b[0m \u001b[32m━━━━━━━━━━━━━━━━━━━━\u001b[0m\u001b[37m\u001b[0m \u001b[1m2s\u001b[0m 43ms/step - loss: 0.3090 - sparse_categorical_accuracy: 0.8899 - val_loss: 0.3516 - val_sparse_categorical_accuracy: 0.8564\n",
      "Epoch 12/20\n",
      "\u001b[1m40/40\u001b[0m \u001b[32m━━━━━━━━━━━━━━━━━━━━\u001b[0m\u001b[37m\u001b[0m \u001b[1m2s\u001b[0m 42ms/step - loss: 0.2947 - sparse_categorical_accuracy: 0.8968 - val_loss: 0.3406 - val_sparse_categorical_accuracy: 0.8638\n",
      "Epoch 13/20\n",
      "\u001b[1m40/40\u001b[0m \u001b[32m━━━━━━━━━━━━━━━━━━━━\u001b[0m\u001b[37m\u001b[0m \u001b[1m2s\u001b[0m 41ms/step - loss: 0.2703 - sparse_categorical_accuracy: 0.9093 - val_loss: 0.3386 - val_sparse_categorical_accuracy: 0.8600\n",
      "Epoch 14/20\n",
      "\u001b[1m40/40\u001b[0m \u001b[32m━━━━━━━━━━━━━━━━━━━━\u001b[0m\u001b[37m\u001b[0m \u001b[1m2s\u001b[0m 42ms/step - loss: 0.2616 - sparse_categorical_accuracy: 0.9125 - val_loss: 0.3241 - val_sparse_categorical_accuracy: 0.8752\n",
      "Epoch 15/20\n",
      "\u001b[1m40/40\u001b[0m \u001b[32m━━━━━━━━━━━━━━━━━━━━\u001b[0m\u001b[37m\u001b[0m \u001b[1m2s\u001b[0m 42ms/step - loss: 0.2441 - sparse_categorical_accuracy: 0.9204 - val_loss: 0.3271 - val_sparse_categorical_accuracy: 0.8646\n",
      "Epoch 16/20\n",
      "\u001b[1m40/40\u001b[0m \u001b[32m━━━━━━━━━━━━━━━━━━━━\u001b[0m\u001b[37m\u001b[0m \u001b[1m2s\u001b[0m 42ms/step - loss: 0.2401 - sparse_categorical_accuracy: 0.9146 - val_loss: 0.3172 - val_sparse_categorical_accuracy: 0.8754\n",
      "Epoch 17/20\n",
      "\u001b[1m40/40\u001b[0m \u001b[32m━━━━━━━━━━━━━━━━━━━━\u001b[0m\u001b[37m\u001b[0m \u001b[1m2s\u001b[0m 41ms/step - loss: 0.2257 - sparse_categorical_accuracy: 0.9274 - val_loss: 0.3081 - val_sparse_categorical_accuracy: 0.8798\n",
      "Epoch 18/20\n",
      "\u001b[1m40/40\u001b[0m \u001b[32m━━━━━━━━━━━━━━━━━━━━\u001b[0m\u001b[37m\u001b[0m \u001b[1m2s\u001b[0m 40ms/step - loss: 0.2154 - sparse_categorical_accuracy: 0.9302 - val_loss: 0.3088 - val_sparse_categorical_accuracy: 0.8746\n",
      "Epoch 19/20\n",
      "\u001b[1m40/40\u001b[0m \u001b[32m━━━━━━━━━━━━━━━━━━━━\u001b[0m\u001b[37m\u001b[0m \u001b[1m2s\u001b[0m 42ms/step - loss: 0.2016 - sparse_categorical_accuracy: 0.9372 - val_loss: 0.3023 - val_sparse_categorical_accuracy: 0.8788\n",
      "Epoch 20/20\n",
      "\u001b[1m40/40\u001b[0m \u001b[32m━━━━━━━━━━━━━━━━━━━━\u001b[0m\u001b[37m\u001b[0m \u001b[1m2s\u001b[0m 42ms/step - loss: 0.1952 - sparse_categorical_accuracy: 0.9387 - val_loss: 0.2991 - val_sparse_categorical_accuracy: 0.8798\n"
     ]
    }
   ],
   "source": [
    "# early_stop = keras.callbacks.EarlyStopping( # Configurando um callback que interrompe o treinamento do modelo caso o desempenho pare de melhorar, com base em métricas monitoradas\n",
    "#     patience = 5, # Definindo o patience, que é o número de epochs consecutivas em que a métrica monitorada pode não melhorar antes de interromper o treinamento\n",
    "#     verbose = 1, # Definindo o verbose para exibir a informação de quando o callback for acionado caso aconteça\n",
    "#     min_delta = 1E-4, # Definindo a menor diferença aceitável para considerar que houve melhora em uma métrica monitorada\n",
    "# )\n",
    "\n",
    "history = model.fit( # Treinando o modelo e armazenando o seu resultado em uma variável\n",
    "    x_train, # Passando os valores de x de treino\n",
    "    y_train, # Passando os valores de y de treino\n",
    "    epochs = 20, # Definindo o número máximo de epochs, ou seja, quantas vezes o modelo passará por todo o conjunto de treino durante o ajuste\n",
    "    batch_size = 512, # Definindo o batch size, que é o número de amostras processadas de uma só vez antes de atualizar os pesos do modelo\n",
    "    validation_split = 0.2, # Definindo a proporção dos dados de treino que será separada para validação\n",
    "    verbose = 1, # Exibindo o andamento do treinamento do modelo\n",
    "    # callbacks = [early_stop] # Definindo o callback com a condição de parada definida anteriormente para interromper o treinamento do modelo\n",
    ")"
   ]
  },
  {
   "cell_type": "markdown",
   "metadata": {},
   "source": [
    "### Fazendo o evaluate do modelo"
   ]
  },
  {
   "cell_type": "code",
   "execution_count": 13,
   "metadata": {},
   "outputs": [
    {
     "name": "stdout",
     "output_type": "stream",
     "text": [
      "\u001b[1m782/782\u001b[0m \u001b[32m━━━━━━━━━━━━━━━━━━━━\u001b[0m\u001b[37m\u001b[0m \u001b[1m2s\u001b[0m 2ms/step - loss: 0.3163 - sparse_categorical_accuracy: 0.8703\n"
     ]
    },
    {
     "data": {
      "text/plain": [
       "[0.31583231687545776, 0.8704000115394592]"
      ]
     },
     "execution_count": 13,
     "metadata": {},
     "output_type": "execute_result"
    }
   ],
   "source": [
    "model.evaluate(x_test, y_test) # Fazendo o evaluate do modelo"
   ]
  },
  {
   "cell_type": "markdown",
   "metadata": {},
   "source": [
    "### Verificando possíveis condições de overfitting"
   ]
  },
  {
   "cell_type": "code",
   "execution_count": 14,
   "metadata": {},
   "outputs": [
    {
     "data": {
      "image/png": "[encoded data removed]",
      "text/plain": [
       "<Figure size 640x480 with 1 Axes>"
      ]
     },
     "metadata": {},
     "output_type": "display_data"
    }
   ],
   "source": [
    "plt.plot(history.history['loss'], label='loss') # Plotando os valores de treino\n",
    "plt.plot(history.history['val_loss'], label='val_loss') # Plotando os valores de validação\n",
    "plt.legend() # Exibindo as legendas\n",
    "plt.show() # Exibindo o gráfico"
   ]
  },
  {
   "cell_type": "code",
   "execution_count": 15,
   "metadata": {},
   "outputs": [
    {
     "data": {
      "image/png": "[encoded data removed]",
      "text/plain": [
       "<Figure size 640x480 with 1 Axes>"
      ]
     },
     "metadata": {},
     "output_type": "display_data"
    }
   ],
   "source": [
    "plt.plot(history.history['sparse_categorical_accuracy'], label='accuracy') # Plotando os valores de treino\n",
    "plt.plot(history.history['val_sparse_categorical_accuracy'], label='val_accuracy') # Plotando os valores de validação\n",
    "plt.legend() # Exibindo as legendas\n",
    "plt.show() # Exibindo o gráfico"
   ]
  },
  {
   "cell_type": "markdown",
   "metadata": {},
   "source": [
    "### Fazendo o predict do modelo com uma amostra dos dados"
   ]
  },
  {
   "cell_type": "code",
   "execution_count": 84,
   "metadata": {},
   "outputs": [
    {
     "name": "stdout",
     "output_type": "stream",
     "text": [
      "- Review 0: <START> this film was just brilliant casting location scenery story direction everyone's really suited the part they played and yo\n",
      "u could just imagine being there robert redford's is an amazing actor and now the same being director norman's father came from th\n",
      "e same scottish island as myself so i loved the fact there was a real connection with this film the witty remarks throughout the f\n",
      "ilm were great it was just brilliant so much that i bought the film as soon as it was released for retail and would recommend it t\n",
      "o everyone to watch and the fly fishing was amazing really cried at the end it was so sad and you know what they say if you cry at\n",
      " a film it must have been good and this definitely was also congratulations to the two little boy's that played the part's of norm\n",
      "an and paul they were just brilliant children are often left out of the praising list i think because the stars that play them all\n",
      " grown up are such a big profile for the whole film but these children are amazing and should be praised for what they have done d\n",
      "on't you think the whole story was so lovely because it was true and was someone's life after all that was shared with us all <PAD\n",
      "> <PAD> <PAD> <PAD> <PAD> <PAD> <PAD> <PAD> <PAD> <PAD> <PAD> <PAD> <PAD> <PAD> <PAD> <PAD> <PAD> <PAD> <PAD> <PAD> <PAD> <PAD> <P\n",
      "AD> <PAD> <PAD> <PAD> <PAD> <PAD> <PAD> <PAD> <PAD> <PAD> <PAD> <PAD> <PAD> <PAD> <PAD> <PAD>\n",
      "\n",
      "- Result: Right\n",
      "- Correct Answer: Negative Review\n",
      "- Prediction: Negative Review\n",
      "- Probabilities: Negative Review = 63.1% - Positive Review = 36.6%\n",
      "\n",
      "\n",
      "- Review 1: <START> big hair big boobs bad music and a giant safety pin these are the words to best describe this terrible movie i love cheesy\n",
      " horror movies and i've seen hundreds but this had got to be on of the worst ever made the plot is paper thin and ridiculous the a\n",
      "cting is an abomination the script is completely laughable the best is the end showdown with the cop and how he worked out who the\n",
      " killer is it's just so damn terribly written the clothes are sickening and funny in equal measures the hair is big lots of boobs \n",
      "bounce men wear those cut tee shirts that show off their stomachs sickening that men actually wore them and the music is just synt\n",
      "hesiser trash that plays over and over again in almost every scene there is trashy music boobs and paramedics taking away bodies a\n",
      "nd the gym still doesn't close for bereavement all joking aside this is a truly bad film whose only charm is to look back on the d\n",
      "isaster that was the 80's and have a good old laugh at how bad everything was back then <PAD> <PAD> <PAD> <PAD> <PAD> <PAD> <PAD> \n",
      "<PAD> <PAD> <PAD> <PAD> <PAD> <PAD> <PAD> <PAD> <PAD> <PAD> <PAD> <PAD> <PAD> <PAD> <PAD> <PAD> <PAD> <PAD> <PAD> <PAD> <PAD> <PAD\n",
      "> <PAD> <PAD> <PAD> <PAD> <PAD> <PAD> <PAD> <PAD> <PAD> <PAD> <PAD> <PAD> <PAD> <PAD> <PAD> <PAD> <PAD> <PAD> <PAD> <PAD> <PAD> <P\n",
      "AD> <PAD> <PAD> <PAD> <PAD> <PAD> <PAD> <PAD> <PAD> <PAD> <PAD> <PAD> <PAD> <PAD> <PAD> <PAD> <PAD>\n",
      "\n",
      "- Result: Right\n",
      "- Correct Answer: Positive Review\n",
      "- Prediction: Positive Review\n",
      "- Probabilities: Negative Review = 2.6% - Positive Review = 97.3%\n",
      "\n",
      "\n",
      "- Review 2: <START> this has to be one of the worst films of the 1990s when my friends i were watching this film being the target audience it \n",
      "was aimed at we just sat watched the first half an hour with our jaws touching the floor at how bad it really was the rest of the \n",
      "time everyone else in the theatre just started talking to each other leaving or generally crying into their popcorn that they actu\n",
      "ally paid money they had earnt working to watch this feeble excuse for a film it must have looked like a great idea on paper but o\n",
      "n film it looks like no one in the film has a clue what is going on crap acting crap costumes i can't get across how embarrasing t\n",
      "his is to watch save yourself an hour a bit of your life <PAD> <PAD> <PAD> <PAD> <PAD> <PAD> <PAD> <PAD> <PAD> <PAD> <PAD> <PAD> <\n",
      "PAD> <PAD> <PAD> <PAD> <PAD> <PAD> <PAD> <PAD> <PAD> <PAD> <PAD> <PAD> <PAD> <PAD> <PAD> <PAD> <PAD> <PAD> <PAD> <PAD> <PAD> <PAD>\n",
      " <PAD> <PAD> <PAD> <PAD> <PAD> <PAD> <PAD> <PAD> <PAD> <PAD> <PAD> <PAD> <PAD> <PAD> <PAD> <PAD> <PAD> <PAD> <PAD> <PAD> <PAD> <PA\n",
      "D> <PAD> <PAD> <PAD> <PAD> <PAD> <PAD> <PAD> <PAD> <PAD> <PAD> <PAD> <PAD> <PAD> <PAD> <PAD> <PAD> <PAD> <PAD> <PAD> <PAD> <PAD> <\n",
      "PAD> <PAD> <PAD> <PAD> <PAD> <PAD> <PAD> <PAD> <PAD> <PAD> <PAD> <PAD> <PAD> <PAD> <PAD> <PAD> <PAD> <PAD> <PAD> <PAD> <PAD> <PAD>\n",
      " <PAD> <PAD> <PAD> <PAD> <PAD> <PAD> <PAD> <PAD> <PAD> <PAD> <PAD> <PAD> <PAD> <PAD> <PAD> <PAD>\n",
      "\n",
      "- Result: Right\n",
      "- Correct Answer: Positive Review\n",
      "- Prediction: Positive Review\n",
      "- Probabilities: Negative Review = 15.5% - Positive Review = 84.4%\n",
      "\n",
      "\n",
      "- Review 3: <START> the scots excel at storytelling the traditional sort many years after the event i can still see in my mind's eye an elderl\n",
      "y lady my friend's mother retelling the battle of culloden she makes the characters come alive her passion is that of an eye witne\n",
      "ss one to the events on the sodden heath a mile or so from where she lives br br of course it happened many years before she was b\n",
      "orn but you wouldn't guess from the way she tells it the same story is told in bars the length and breadth of scotland as i discus\n",
      "sed it with a friend one night in mallaig a local cut in to give his version the discussion continued to closing time br br storie\n",
      "s passed down like this become part of our being who doesn't remember the stories our parents told us when we were children they b\n",
      "ecome our invisible world and as we grow older they maybe still serve as inspiration or as an emotional reservoir fact and fiction\n",
      " blend with aspiration role models warning stories archetypes magic and mystery br br my name is aonghas like my grandfather and h\n",
      "is grandfather before him our protagonist introduces himself to us and also introduces the story that stretches back through gener\n",
      "ations it produces stories within stories stories that evoke the impenetrable wonder of scotland its rugged mountains shrouded in \n",
      "mists the stuff of legend yet seach'd is rooted in reality this is what gives it its special charm it has a rough beauty and\n",
      "\n",
      "- Result: Right\n",
      "- Correct Answer: Negative Review\n",
      "- Prediction: Negative Review\n",
      "- Probabilities: Negative Review = 55.2% - Positive Review = 45.1%\n",
      "\n",
      "\n",
      "- Review 4: <START> worst mistake of my life br br i picked this movie up at target for 5 because i figured hey it's sandler i can get some ch\n",
      "eap laughs i was wrong completely wrong mid way through the film all three of my friends were asleep and i was still suffering wor\n",
      "st plot worst script worst movie i have ever seen i wanted to hit my head up against a wall for an hour then i'd stop and you know\n",
      " why because it felt damn good upon bashing my head in i stuck that damn movie in the microwave and watched it burn and that felt \n",
      "better than anything else i've ever done it took american psycho army of darkness and kill bill just to get over that crap i hate \n",
      "you sandler for actually going through with this and ruining a whole day of my life <PAD> <PAD> <PAD> <PAD> <PAD> <PAD> <PAD> <PAD\n",
      "> <PAD> <PAD> <PAD> <PAD> <PAD> <PAD> <PAD> <PAD> <PAD> <PAD> <PAD> <PAD> <PAD> <PAD> <PAD> <PAD> <PAD> <PAD> <PAD> <PAD> <PAD> <P\n",
      "AD> <PAD> <PAD> <PAD> <PAD> <PAD> <PAD> <PAD> <PAD> <PAD> <PAD> <PAD> <PAD> <PAD> <PAD> <PAD> <PAD> <PAD> <PAD> <PAD> <PAD> <PAD> \n",
      "<PAD> <PAD> <PAD> <PAD> <PAD> <PAD> <PAD> <PAD> <PAD> <PAD> <PAD> <PAD> <PAD> <PAD> <PAD> <PAD> <PAD> <PAD> <PAD> <PAD> <PAD> <PAD\n",
      "> <PAD> <PAD> <PAD> <PAD> <PAD> <PAD> <PAD> <PAD> <PAD> <PAD> <PAD> <PAD> <PAD> <PAD> <PAD> <PAD> <PAD> <PAD> <PAD> <PAD> <PAD> <P\n",
      "AD> <PAD> <PAD> <PAD> <PAD> <PAD> <PAD> <PAD> <PAD> <PAD> <PAD> <PAD> <PAD> <PAD> <PAD>\n",
      "\n",
      "- Result: Right\n",
      "- Correct Answer: Positive Review\n",
      "- Prediction: Positive Review\n",
      "- Probabilities: Negative Review = 21.6% - Positive Review = 78.0%\n",
      "\n",
      "\n",
      "- Review 5: <START> begins better than it ends funny that the russian submarine crew outperforms all other actors it's like those scenes where\n",
      " documentary shots br br spoiler part the message dechifered was contrary to the whole story it just does not mesh br br <PAD> <PA\n",
      "D> <PAD> <PAD> <PAD> <PAD> <PAD> <PAD> <PAD> <PAD> <PAD> <PAD> <PAD> <PAD> <PAD> <PAD> <PAD> <PAD> <PAD> <PAD> <PAD> <PAD> <PAD> <\n",
      "PAD> <PAD> <PAD> <PAD> <PAD> <PAD> <PAD> <PAD> <PAD> <PAD> <PAD> <PAD> <PAD> <PAD> <PAD> <PAD> <PAD> <PAD> <PAD> <PAD> <PAD> <PAD>\n",
      " <PAD> <PAD> <PAD> <PAD> <PAD> <PAD> <PAD> <PAD> <PAD> <PAD> <PAD> <PAD> <PAD> <PAD> <PAD> <PAD> <PAD> <PAD> <PAD> <PAD> <PAD> <PA\n",
      "D> <PAD> <PAD> <PAD> <PAD> <PAD> <PAD> <PAD> <PAD> <PAD> <PAD> <PAD> <PAD> <PAD> <PAD> <PAD> <PAD> <PAD> <PAD> <PAD> <PAD> <PAD> <\n",
      "PAD> <PAD> <PAD> <PAD> <PAD> <PAD> <PAD> <PAD> <PAD> <PAD> <PAD> <PAD> <PAD> <PAD> <PAD> <PAD> <PAD> <PAD> <PAD> <PAD> <PAD> <PAD>\n",
      " <PAD> <PAD> <PAD> <PAD> <PAD> <PAD> <PAD> <PAD> <PAD> <PAD> <PAD> <PAD> <PAD> <PAD> <PAD> <PAD> <PAD> <PAD> <PAD> <PAD> <PAD> <PA\n",
      "D> <PAD> <PAD> <PAD> <PAD> <PAD> <PAD> <PAD> <PAD> <PAD> <PAD> <PAD> <PAD> <PAD> <PAD> <PAD> <PAD> <PAD> <PAD> <PAD> <PAD> <PAD> <\n",
      "PAD> <PAD> <PAD> <PAD> <PAD> <PAD> <PAD> <PAD> <PAD> <PAD> <PAD> <PAD> <PAD> <PAD> <PAD> <PAD> <PAD> <PAD> <PAD> <PAD> <PAD> <PAD>\n",
      " <PAD> <PAD> <PAD> <PAD> <PAD> <PAD> <PAD> <PAD> <PAD> <PAD> <PAD> <PAD> <PAD> <PAD> <PAD> <PAD> <PAD> <PAD> <PAD> <PAD> <PAD> <PA\n",
      "D> <PAD> <PAD> <PAD> <PAD> <PAD> <PAD> <PAD> <PAD> <PAD> <PAD> <PAD> <PAD> <PAD> <PAD> <PAD> <PAD>\n",
      "\n",
      "- Result: Right\n",
      "- Correct Answer: Positive Review\n",
      "- Prediction: Positive Review\n",
      "- Probabilities: Negative Review = 46.5% - Positive Review = 53.4%\n",
      "\n",
      "\n",
      "- Review 6: <START> lavish production values and solid performances in this straightforward adaption of jane austen's satirical classic about \n",
      "the marriage game within and between the classes in provincial 18th century england northam and paltrow are a salutory mixture as \n",
      "friends who must pass through jealousies and lies to discover that they love each other good humor is a sustaining virtue which go\n",
      "es a long way towards explaining the accessability of the aged source material which has been toned down a bit in its harsh scepti\n",
      "cism i liked the look of the film and how shots were set up and i thought it didn't rely too much on successions of head shots lik\n",
      "e most other films of the 80s and 90s do very good results <PAD> <PAD> <PAD> <PAD> <PAD> <PAD> <PAD> <PAD> <PAD> <PAD> <PAD> <PAD>\n",
      " <PAD> <PAD> <PAD> <PAD> <PAD> <PAD> <PAD> <PAD> <PAD> <PAD> <PAD> <PAD> <PAD> <PAD> <PAD> <PAD> <PAD> <PAD> <PAD> <PAD> <PAD> <PA\n",
      "D> <PAD> <PAD> <PAD> <PAD> <PAD> <PAD> <PAD> <PAD> <PAD> <PAD> <PAD> <PAD> <PAD> <PAD> <PAD> <PAD> <PAD> <PAD> <PAD> <PAD> <PAD> <\n",
      "PAD> <PAD> <PAD> <PAD> <PAD> <PAD> <PAD> <PAD> <PAD> <PAD> <PAD> <PAD> <PAD> <PAD> <PAD> <PAD> <PAD> <PAD> <PAD> <PAD> <PAD> <PAD>\n",
      " <PAD> <PAD> <PAD> <PAD> <PAD> <PAD> <PAD> <PAD> <PAD> <PAD> <PAD> <PAD> <PAD> <PAD> <PAD> <PAD> <PAD> <PAD> <PAD> <PAD> <PAD> <PA\n",
      "D> <PAD> <PAD> <PAD> <PAD> <PAD> <PAD> <PAD> <PAD> <PAD> <PAD> <PAD> <PAD> <PAD> <PAD> <PAD> <PAD> <PAD> <PAD> <PAD> <PAD> <PAD> <\n",
      "PAD> <PAD> <PAD> <PAD> <PAD> <PAD> <PAD> <PAD> <PAD> <PAD> <PAD> <PAD> <PAD>\n",
      "\n",
      "- Result: Right\n",
      "- Correct Answer: Positive Review\n",
      "- Prediction: Positive Review\n",
      "- Probabilities: Negative Review = 43.1% - Positive Review = 57.4%\n",
      "\n",
      "\n",
      "- Review 7: <START> the hamiltons tells the story of the four hamilton siblings teenager francis cory knauf twins wendell joseph mckelheer dar\n",
      "lene mackenzie firgens the eldest david samuel who is now the surrogate parent in charge the hamilton's move house a lot franics i\n",
      "s unsure why is unhappy with the way things are the fact that his brother's sister kidnap imprison murder people in the basement d\n",
      "oesn't help relax or calm francis' nerves either francis know's something just isn't right when he eventually finds out the truth \n",
      "things will never be the same again br br co written co produced directed by mitchell altieri phil flores as the butcher brothers \n",
      "who's only other film director's credit so far is the april fool's day 2008 remake enough said this was one of the 'films to die f\n",
      "or' at the 2006 after dark horrorfest or whatever it's called in keeping with pretty much all the other's i've seen i thought the \n",
      "hamiltons was complete total utter crap i found the character's really poor very unlikable the slow moving story failed to capture\n",
      " my imagination or sustain my interest over it's 85 a half minute too long 86 minute duration the there's the awful twist at the e\n",
      "nd which had me laughing out loud there's this really big sustained build up to what's inside a cupboard thing in the hamiltons ba\n",
      "sement it's eventually revealed to be a little boy with a teddy is that really supposed to scare us is that really supposed to sho\n",
      "ck us is that really something that\n",
      "\n",
      "- Result: Right\n",
      "- Correct Answer: Negative Review\n",
      "- Prediction: Negative Review\n",
      "- Probabilities: Negative Review = 77.7% - Positive Review = 22.5%\n",
      "\n",
      "\n",
      "- Review 8: <START> just got out and cannot believe what a brilliant documentary this is rarely do you walk out of a movie theater in such awe\n",
      " and amazement lately movies have become so over hyped that the thrill of discovering something truly special and unique rarely ha\n",
      "ppens amores perros did this to me when it first came out and this movie is doing to me now i didn't know a thing about this befor\n",
      "e going into it and what a surprise if you hear the concept you might get the feeling that this is one of those touchy movies abou\n",
      "t an amazing triumph covered with over the top music and trying to have us fully convinced of what a great story it is telling but\n",
      " then not letting us in fortunetly this is not that movie the people tell the story this does such a good job of capturing every m\n",
      "oment of their involvement while we enter their world and feel every second with them there is so much beyond the climb that makes\n",
      " everything they go through so much more tense touching the void was also a great doc about mountain climbing and showing the inte\n",
      "nsity in an engaging way but this film is much more of a human story i just saw it today but i will go and say that this is one of\n",
      " the best documentaries i have ever seen <PAD> <PAD> <PAD> <PAD> <PAD> <PAD> <PAD> <PAD> <PAD> <PAD> <PAD> <PAD> <PAD> <PAD> <PAD>\n",
      " <PAD> <PAD> <PAD> <PAD> <PAD> <PAD> <PAD> <PAD>\n",
      "\n",
      "- Result: Wrong\n",
      "- Correct Answer: Negative Review\n",
      "- Prediction: Positive Review\n",
      "- Probabilities: Negative Review = 21.5% - Positive Review = 78.1%\n",
      "\n",
      "\n",
      "- Review 9: <START> this movie has many problem associated with it that makes it come off like a low budget class project from someone in film\n",
      " school i have to give it credit on its campiness though many times throughout the movie i found myself laughing hysterically it w\n",
      "as so bad at times that it was comical which made it a fun watch br br if you're looking for a low grade slasher movie with a twis\n",
      "t of psychological horror and a dash of campy ridiculousness then pop a bowl of popcorn invite some friends over and have some fun\n",
      " br br i agree with other comments that the sound is very bad dialog is next to impossible to follow much of the time and the soun\n",
      "dtrack is kind of just there <PAD> <PAD> <PAD> <PAD> <PAD> <PAD> <PAD> <PAD> <PAD> <PAD> <PAD> <PAD> <PAD> <PAD> <PAD> <PAD> <PAD>\n",
      " <PAD> <PAD> <PAD> <PAD> <PAD> <PAD> <PAD> <PAD> <PAD> <PAD> <PAD> <PAD> <PAD> <PAD> <PAD> <PAD> <PAD> <PAD> <PAD> <PAD> <PAD> <PA\n",
      "D> <PAD> <PAD> <PAD> <PAD> <PAD> <PAD> <PAD> <PAD> <PAD> <PAD> <PAD> <PAD> <PAD> <PAD> <PAD> <PAD> <PAD> <PAD> <PAD> <PAD> <PAD> <\n",
      "PAD> <PAD> <PAD> <PAD> <PAD> <PAD> <PAD> <PAD> <PAD> <PAD> <PAD> <PAD> <PAD> <PAD> <PAD> <PAD> <PAD> <PAD> <PAD> <PAD> <PAD> <PAD>\n",
      " <PAD> <PAD> <PAD> <PAD> <PAD> <PAD> <PAD> <PAD> <PAD> <PAD> <PAD> <PAD> <PAD> <PAD> <PAD> <PAD> <PAD> <PAD> <PAD> <PAD> <PAD> <PA\n",
      "D> <PAD> <PAD> <PAD> <PAD> <PAD> <PAD> <PAD> <PAD> <PAD> <PAD> <PAD> <PAD> <PAD> <PAD> <PAD> <PAD> <PAD> <PAD> <PAD> <PAD> <PAD> <\n",
      "PAD>\n",
      "\n",
      "- Result: Right\n",
      "- Correct Answer: Positive Review\n",
      "- Prediction: Positive Review\n",
      "- Probabilities: Negative Review = 33.1% - Positive Review = 67.3%\n",
      "\n",
      "\n"
     ]
    }
   ],
   "source": [
    "for i in range (10): # Criando uma estrutura de repetição para avaliar os 5 primeiros reviews\n",
    "    \n",
    "    decoded_text = decode_review(x_train[i], word_index) # Usando a função para decodificar e visualizar o primeiro review, passando um review e o dicionário de palavras\n",
    "    print(f'- Review {i}:', '\\n'.join([decoded_text[i:i+130] for i in range(0, len(decoded_text), 130)])) # Printando o texto com limite de 130 caracteres\n",
    "\n",
    "    print() # Printando uma linha vazia para separar o texto das previsões\n",
    "\n",
    "    prediction = np.argmax(model.predict(np.expand_dims(x_test[i], axis=0), verbose=0)) # Armazenando em variável a previsão para otimizar o código ao printar logo abaixo\n",
    "    probabilities = model.predict(np.expand_dims(x_test[i], axis=0), verbose=0).flatten() # Armazenando em variável as probabilidades para otimizar o código ao printar logo abaixo\n",
    "    print('- Result:', 'Right' if y_test[i] == prediction else 'Wrong') # Printando o resultado da previsão\n",
    "    print('- Correct Answer:', 'Negative Review' if y_test[i] == 0 else 'Positive Review') # Printando a resposta correta\n",
    "    print('- Prediction:', 'Negative Review' if prediction == 0 else 'Positive Review') # Printando a previsão do modelo\n",
    "    print(f'- Probabilities: Negative Review = {probabilities[0] * 100:.1f}% - Positive Review = {probabilities[1] * 100:.1f}%') # Printando as probabilidades de cada possível resposta\n",
    "    \n",
    "    print('\\n') # Printando duas linhas vazias para separar os reviews"
   ]
  },
  {
   "cell_type": "markdown",
   "metadata": {},
   "source": [
    "### Testando o modelo com reviews criados manualmente"
   ]
  },
  {
   "cell_type": "code",
   "execution_count": null,
   "metadata": {},
   "outputs": [],
   "source": []
  }
 ],
 "metadata": {
  "kernelspec": {
   "display_name": "Python 3",
   "language": "python",
   "name": "python3"
  },
  "language_info": {
   "codemirror_mode": {
    "name": "ipython",
    "version": 3
   },
   "file_extension": ".py",
   "mimetype": "text/x-python",
   "name": "python",
   "nbconvert_exporter": "python",
   "pygments_lexer": "ipython3",
   "version": "3.12.4"
  }
 },
 "nbformat": 4,
 "nbformat_minor": 2
}
