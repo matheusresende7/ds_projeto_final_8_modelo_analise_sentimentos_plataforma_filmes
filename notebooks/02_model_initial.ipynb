{
 "cells": [
  {
   "cell_type": "markdown",
   "metadata": {},
   "source": [
    "# 02. Model - Initial"
   ]
  },
  {
   "cell_type": "markdown",
   "metadata": {},
   "source": [
    "### Importando as bibliotecas"
   ]
  },
  {
   "cell_type": "code",
   "execution_count": 20,
   "metadata": {},
   "outputs": [],
   "source": [
    "import sys\n",
    "import os\n",
    "from pathlib import Path\n",
    "sys.path.append('..')\n",
    "import pandas as pd\n",
    "import numpy as np\n",
    "import matplotlib.pyplot as plt\n",
    "import tensorflow as tf\n",
    "from tensorflow import keras\n",
    "import string"
   ]
  },
  {
   "cell_type": "markdown",
   "metadata": {},
   "source": [
    "### Configurando para serem exibidas apenas mensagens de erro no Tensor Flow"
   ]
  },
  {
   "cell_type": "code",
   "execution_count": 2,
   "metadata": {},
   "outputs": [],
   "source": [
    "os.environ['TF_CPP_MIN_LOG_LEVEL'] = '2' # Configurando para serem exibidas apenas mensagens de erro no Tensor Flow"
   ]
  },
  {
   "cell_type": "markdown",
   "metadata": {},
   "source": [
    "### Lendo o dataset"
   ]
  },
  {
   "cell_type": "code",
   "execution_count": 3,
   "metadata": {},
   "outputs": [],
   "source": [
    "df = keras.datasets.imdb # Armazenando o dataset em uma variável"
   ]
  },
  {
   "cell_type": "code",
   "execution_count": 4,
   "metadata": {},
   "outputs": [],
   "source": [
    "(x_train, y_train), (x_test, y_test) = df.load_data() # Armazenando os dados do df já divididos em X e Y de treino e teste"
   ]
  },
  {
   "cell_type": "code",
   "execution_count": 5,
   "metadata": {},
   "outputs": [],
   "source": [
    "word_index = df.get_word_index() # Armazenando o dicionário de palavras em uma variável"
   ]
  },
  {
   "cell_type": "code",
   "execution_count": 6,
   "metadata": {},
   "outputs": [],
   "source": [
    "word_index = {chave: (valor + 3) for chave, valor in word_index.items()} # Adicionando 4 espaços no dicionário para inserir tokens especiais para NLP: PAD, START, UNK e UNUSED"
   ]
  },
  {
   "cell_type": "code",
   "execution_count": 7,
   "metadata": {},
   "outputs": [],
   "source": [
    "# Adicionando os tokens especiais em suas respectivas posições\n",
    "word_index['<PAD>'] = 0\n",
    "word_index['<START>'] = 1\n",
    "word_index['<UNK>'] = 2\n",
    "word_index['<UNUSED>'] = 3"
   ]
  },
  {
   "cell_type": "code",
   "execution_count": 23,
   "metadata": {},
   "outputs": [],
   "source": [
    "x_train = keras.utils.pad_sequences( # Ajustando o novo valor de x de treino para otimizar os recursos de processamento, limitando os reviews em 256 tokens (nesse caso, palavras). Para reviews menores, serão preenchidos com <PAD>. Para reviews maiores, serão cortados em 256 tokens.\n",
    "    x_train, # Passando os dados que serão alterados\n",
    "    value=word_index['<PAD>'], # Passando o valor que preenchera os espaços vazios caso os reviews tenham menos de 256 tokens\n",
    "    padding='post', # Definindo se os reviews com menos de 256 tokens, vão ser preenchidos com <PAD> no início ou no final\n",
    "    truncating='post', # Definindo se os reviews com mais de 256 tokens, vão ser cortados no início ou no final\n",
    "    maxlen=256 # Definindo o número máximo de tokens\n",
    ")\n",
    "\n",
    "x_test = keras.utils.pad_sequences( # Ajustando o novo valor de x de teste para otimizar os recursos de processamento, limitando os reviews em 256 tokens (nesse caso, palavras). Para reviews menores, serão preenchidos com <PAD>. Para reviews maiores, serão cortados em 256 tokens.\n",
    "    x_test, # Passando os dados que serão alterados\n",
    "    value=word_index['<PAD>'], # Passando o valor que preenchera os espaços vazios caso os reviews tenham menos de 256 tokens\n",
    "    padding='post', # Definindo se os reviews com menos de 256 tokens, vão ser preenchidos com <PAD> no início ou no final\n",
    "    truncating='post', # Definindo se os reviews com mais de 256 tokens, vão ser cortados no início ou no final\n",
    "    maxlen=256 # Definindo o número máximo de tokens\n",
    ")"
   ]
  },
  {
   "cell_type": "code",
   "execution_count": 10,
   "metadata": {},
   "outputs": [],
   "source": [
    "def decode_review(text, index): # Criando uma função para transformar os reviews, de sequência de números para um texto normal que pode ser lido, passando um texto e o dicionário de palavras\n",
    "    reverse_index = {value: key for key, value in index.items()} # Invertendo o dicionário anterior de palavras para números, para números para palavras\n",
    "    return ' '.join([reverse_index.get(value, '<UNK>') for value in text]) # Retorna o texto do review, percorrendo cada número e buscando sua palavra correspondente"
   ]
  },
  {
   "cell_type": "markdown",
   "metadata": {},
   "source": [
    "### Definindo o modelo Keras a partir de um pipeline"
   ]
  },
  {
   "cell_type": "code",
   "execution_count": 11,
   "metadata": {},
   "outputs": [
    {
     "data": {
      "text/html": [
       "<pre style=\"white-space:pre;overflow-x:auto;line-height:normal;font-family:Menlo,'DejaVu Sans Mono',consolas,'Courier New',monospace\"><span style=\"font-weight: bold\">Model: \"sequential\"</span>\n",
       "</pre>\n"
      ],
      "text/plain": [
       "\u001b[1mModel: \"sequential\"\u001b[0m\n"
      ]
     },
     "metadata": {},
     "output_type": "display_data"
    },
    {
     "data": {
      "text/html": [
       "<pre style=\"white-space:pre;overflow-x:auto;line-height:normal;font-family:Menlo,'DejaVu Sans Mono',consolas,'Courier New',monospace\">┏━━━━━━━━━━━━━━━━━━━━━━━━━━━━━━━━━┳━━━━━━━━━━━━━━━━━━━━━━━━┳━━━━━━━━━━━━━━━┓\n",
       "┃<span style=\"font-weight: bold\"> Layer (type)                    </span>┃<span style=\"font-weight: bold\"> Output Shape           </span>┃<span style=\"font-weight: bold\">       Param # </span>┃\n",
       "┡━━━━━━━━━━━━━━━━━━━━━━━━━━━━━━━━━╇━━━━━━━━━━━━━━━━━━━━━━━━╇━━━━━━━━━━━━━━━┩\n",
       "│ embedding (<span style=\"color: #0087ff; text-decoration-color: #0087ff\">Embedding</span>)           │ (<span style=\"color: #00d7ff; text-decoration-color: #00d7ff\">None</span>, <span style=\"color: #00af00; text-decoration-color: #00af00\">256</span>, <span style=\"color: #00af00; text-decoration-color: #00af00\">64</span>)        │     <span style=\"color: #00af00; text-decoration-color: #00af00\">5,669,632</span> │\n",
       "├─────────────────────────────────┼────────────────────────┼───────────────┤\n",
       "│ global_average_pooling1d        │ (<span style=\"color: #00d7ff; text-decoration-color: #00d7ff\">None</span>, <span style=\"color: #00af00; text-decoration-color: #00af00\">64</span>)             │             <span style=\"color: #00af00; text-decoration-color: #00af00\">0</span> │\n",
       "│ (<span style=\"color: #0087ff; text-decoration-color: #0087ff\">GlobalAveragePooling1D</span>)        │                        │               │\n",
       "├─────────────────────────────────┼────────────────────────┼───────────────┤\n",
       "│ dense (<span style=\"color: #0087ff; text-decoration-color: #0087ff\">Dense</span>)                   │ (<span style=\"color: #00d7ff; text-decoration-color: #00d7ff\">None</span>, <span style=\"color: #00af00; text-decoration-color: #00af00\">2</span>)              │           <span style=\"color: #00af00; text-decoration-color: #00af00\">130</span> │\n",
       "└─────────────────────────────────┴────────────────────────┴───────────────┘\n",
       "</pre>\n"
      ],
      "text/plain": [
       "┏━━━━━━━━━━━━━━━━━━━━━━━━━━━━━━━━━┳━━━━━━━━━━━━━━━━━━━━━━━━┳━━━━━━━━━━━━━━━┓\n",
       "┃\u001b[1m \u001b[0m\u001b[1mLayer (type)                   \u001b[0m\u001b[1m \u001b[0m┃\u001b[1m \u001b[0m\u001b[1mOutput Shape          \u001b[0m\u001b[1m \u001b[0m┃\u001b[1m \u001b[0m\u001b[1m      Param #\u001b[0m\u001b[1m \u001b[0m┃\n",
       "┡━━━━━━━━━━━━━━━━━━━━━━━━━━━━━━━━━╇━━━━━━━━━━━━━━━━━━━━━━━━╇━━━━━━━━━━━━━━━┩\n",
       "│ embedding (\u001b[38;5;33mEmbedding\u001b[0m)           │ (\u001b[38;5;45mNone\u001b[0m, \u001b[38;5;34m256\u001b[0m, \u001b[38;5;34m64\u001b[0m)        │     \u001b[38;5;34m5,669,632\u001b[0m │\n",
       "├─────────────────────────────────┼────────────────────────┼───────────────┤\n",
       "│ global_average_pooling1d        │ (\u001b[38;5;45mNone\u001b[0m, \u001b[38;5;34m64\u001b[0m)             │             \u001b[38;5;34m0\u001b[0m │\n",
       "│ (\u001b[38;5;33mGlobalAveragePooling1D\u001b[0m)        │                        │               │\n",
       "├─────────────────────────────────┼────────────────────────┼───────────────┤\n",
       "│ dense (\u001b[38;5;33mDense\u001b[0m)                   │ (\u001b[38;5;45mNone\u001b[0m, \u001b[38;5;34m2\u001b[0m)              │           \u001b[38;5;34m130\u001b[0m │\n",
       "└─────────────────────────────────┴────────────────────────┴───────────────┘\n"
      ]
     },
     "metadata": {},
     "output_type": "display_data"
    },
    {
     "data": {
      "text/html": [
       "<pre style=\"white-space:pre;overflow-x:auto;line-height:normal;font-family:Menlo,'DejaVu Sans Mono',consolas,'Courier New',monospace\"><span style=\"font-weight: bold\"> Total params: </span><span style=\"color: #00af00; text-decoration-color: #00af00\">5,669,762</span> (21.63 MB)\n",
       "</pre>\n"
      ],
      "text/plain": [
       "\u001b[1m Total params: \u001b[0m\u001b[38;5;34m5,669,762\u001b[0m (21.63 MB)\n"
      ]
     },
     "metadata": {},
     "output_type": "display_data"
    },
    {
     "data": {
      "text/html": [
       "<pre style=\"white-space:pre;overflow-x:auto;line-height:normal;font-family:Menlo,'DejaVu Sans Mono',consolas,'Courier New',monospace\"><span style=\"font-weight: bold\"> Trainable params: </span><span style=\"color: #00af00; text-decoration-color: #00af00\">5,669,762</span> (21.63 MB)\n",
       "</pre>\n"
      ],
      "text/plain": [
       "\u001b[1m Trainable params: \u001b[0m\u001b[38;5;34m5,669,762\u001b[0m (21.63 MB)\n"
      ]
     },
     "metadata": {},
     "output_type": "display_data"
    },
    {
     "data": {
      "text/html": [
       "<pre style=\"white-space:pre;overflow-x:auto;line-height:normal;font-family:Menlo,'DejaVu Sans Mono',consolas,'Courier New',monospace\"><span style=\"font-weight: bold\"> Non-trainable params: </span><span style=\"color: #00af00; text-decoration-color: #00af00\">0</span> (0.00 B)\n",
       "</pre>\n"
      ],
      "text/plain": [
       "\u001b[1m Non-trainable params: \u001b[0m\u001b[38;5;34m0\u001b[0m (0.00 B)\n"
      ]
     },
     "metadata": {},
     "output_type": "display_data"
    }
   ],
   "source": [
    "# Etapa inicial\n",
    "model = keras.models.Sequential() # Instanciando o modelo\n",
    "\n",
    "# Etapas de pré processamento\n",
    "model.add(keras.layers.InputLayer(shape=(256,))) # Passando o shape dos dados para o modelo (Conforme definido o limite de tokens)\n",
    "model.add(keras.layers.Embedding(len(word_index), 64)) # Passando o embedding para fazer a segmentação das palavras\n",
    "model.add(keras.layers.GlobalAveragePooling1D()) # Adicionando o Global Average Pooling visando ajustar o shape de entrada com o de saída, partindo de 3 dimensões sendo que é esperado 2 dimensões\n",
    "\n",
    "# Etapas de camadas ocultas\n",
    "model.add(keras.layers.Dense(2, activation='sigmoid')) # Passando a camada de entrada (2 = tipos de classificação (positiva ou negativa))\n",
    "\n",
    "model.summary() # Exibindo o resumo do treinamento"
   ]
  },
  {
   "cell_type": "markdown",
   "metadata": {},
   "source": [
    "### Compilando o modelo"
   ]
  },
  {
   "cell_type": "code",
   "execution_count": 12,
   "metadata": {},
   "outputs": [],
   "source": [
    "optimizer = keras.optimizers.Adam() # Definindo o otimizador\n",
    "loss = keras.losses.SparseCategoricalCrossentropy() # Definindo a função de busca\n",
    "metric = keras.metrics.SparseCategoricalAccuracy() # Definindo a métrica a ser considerada durante o treinamento\n",
    "\n",
    "model.compile(optimizer=optimizer, loss=loss, metrics=[metric]) # Compilando o modelo"
   ]
  },
  {
   "cell_type": "markdown",
   "metadata": {},
   "source": [
    "### Treinando o modelo"
   ]
  },
  {
   "cell_type": "code",
   "execution_count": 13,
   "metadata": {},
   "outputs": [
    {
     "name": "stdout",
     "output_type": "stream",
     "text": [
      "Epoch 1/50\n",
      "\u001b[1m40/40\u001b[0m \u001b[32m━━━━━━━━━━━━━━━━━━━━\u001b[0m\u001b[37m\u001b[0m \u001b[1m6s\u001b[0m 122ms/step - loss: 0.6867 - sparse_categorical_accuracy: 0.5944 - val_loss: 0.6603 - val_sparse_categorical_accuracy: 0.6750\n",
      "Epoch 2/50\n",
      "\u001b[1m40/40\u001b[0m \u001b[32m━━━━━━━━━━━━━━━━━━━━\u001b[0m\u001b[37m\u001b[0m \u001b[1m4s\u001b[0m 105ms/step - loss: 0.6481 - sparse_categorical_accuracy: 0.7047 - val_loss: 0.6116 - val_sparse_categorical_accuracy: 0.7412\n",
      "Epoch 3/50\n",
      "\u001b[1m40/40\u001b[0m \u001b[32m━━━━━━━━━━━━━━━━━━━━\u001b[0m\u001b[37m\u001b[0m \u001b[1m4s\u001b[0m 92ms/step - loss: 0.5981 - sparse_categorical_accuracy: 0.7585 - val_loss: 0.5575 - val_sparse_categorical_accuracy: 0.7744\n",
      "Epoch 4/50\n",
      "\u001b[1m40/40\u001b[0m \u001b[32m━━━━━━━━━━━━━━━━━━━━\u001b[0m\u001b[37m\u001b[0m \u001b[1m4s\u001b[0m 101ms/step - loss: 0.5432 - sparse_categorical_accuracy: 0.7815 - val_loss: 0.5134 - val_sparse_categorical_accuracy: 0.7880\n",
      "Epoch 5/50\n",
      "\u001b[1m40/40\u001b[0m \u001b[32m━━━━━━━━━━━━━━━━━━━━\u001b[0m\u001b[37m\u001b[0m \u001b[1m4s\u001b[0m 99ms/step - loss: 0.4902 - sparse_categorical_accuracy: 0.8103 - val_loss: 0.4702 - val_sparse_categorical_accuracy: 0.8240\n",
      "Epoch 6/50\n",
      "\u001b[1m40/40\u001b[0m \u001b[32m━━━━━━━━━━━━━━━━━━━━\u001b[0m\u001b[37m\u001b[0m \u001b[1m4s\u001b[0m 98ms/step - loss: 0.4452 - sparse_categorical_accuracy: 0.8412 - val_loss: 0.4374 - val_sparse_categorical_accuracy: 0.8324\n",
      "Epoch 7/50\n",
      "\u001b[1m40/40\u001b[0m \u001b[32m━━━━━━━━━━━━━━━━━━━━\u001b[0m\u001b[37m\u001b[0m \u001b[1m5s\u001b[0m 129ms/step - loss: 0.4072 - sparse_categorical_accuracy: 0.8554 - val_loss: 0.4095 - val_sparse_categorical_accuracy: 0.8490\n",
      "Epoch 8/50\n",
      "\u001b[1m40/40\u001b[0m \u001b[32m━━━━━━━━━━━━━━━━━━━━\u001b[0m\u001b[37m\u001b[0m \u001b[1m7s\u001b[0m 161ms/step - loss: 0.3735 - sparse_categorical_accuracy: 0.8726 - val_loss: 0.3884 - val_sparse_categorical_accuracy: 0.8526\n",
      "Epoch 9/50\n",
      "\u001b[1m40/40\u001b[0m \u001b[32m━━━━━━━━━━━━━━━━━━━━\u001b[0m\u001b[37m\u001b[0m \u001b[1m6s\u001b[0m 148ms/step - loss: 0.3450 - sparse_categorical_accuracy: 0.8833 - val_loss: 0.3714 - val_sparse_categorical_accuracy: 0.8604\n",
      "Epoch 10/50\n",
      "\u001b[1m40/40\u001b[0m \u001b[32m━━━━━━━━━━━━━━━━━━━━\u001b[0m\u001b[37m\u001b[0m \u001b[1m6s\u001b[0m 152ms/step - loss: 0.3262 - sparse_categorical_accuracy: 0.8874 - val_loss: 0.3572 - val_sparse_categorical_accuracy: 0.8670\n",
      "Epoch 11/50\n",
      "\u001b[1m40/40\u001b[0m \u001b[32m━━━━━━━━━━━━━━━━━━━━\u001b[0m\u001b[37m\u001b[0m \u001b[1m5s\u001b[0m 127ms/step - loss: 0.3065 - sparse_categorical_accuracy: 0.8934 - val_loss: 0.3501 - val_sparse_categorical_accuracy: 0.8586\n",
      "Epoch 12/50\n",
      "\u001b[1m40/40\u001b[0m \u001b[32m━━━━━━━━━━━━━━━━━━━━\u001b[0m\u001b[37m\u001b[0m \u001b[1m6s\u001b[0m 151ms/step - loss: 0.2926 - sparse_categorical_accuracy: 0.8977 - val_loss: 0.3367 - val_sparse_categorical_accuracy: 0.8714\n",
      "Epoch 13/50\n",
      "\u001b[1m40/40\u001b[0m \u001b[32m━━━━━━━━━━━━━━━━━━━━\u001b[0m\u001b[37m\u001b[0m \u001b[1m6s\u001b[0m 149ms/step - loss: 0.2754 - sparse_categorical_accuracy: 0.9060 - val_loss: 0.3543 - val_sparse_categorical_accuracy: 0.8412\n",
      "Epoch 14/50\n",
      "\u001b[1m40/40\u001b[0m \u001b[32m━━━━━━━━━━━━━━━━━━━━\u001b[0m\u001b[37m\u001b[0m \u001b[1m8s\u001b[0m 190ms/step - loss: 0.2679 - sparse_categorical_accuracy: 0.9052 - val_loss: 0.3215 - val_sparse_categorical_accuracy: 0.8758\n",
      "Epoch 15/50\n",
      "\u001b[1m40/40\u001b[0m \u001b[32m━━━━━━━━━━━━━━━━━━━━\u001b[0m\u001b[37m\u001b[0m \u001b[1m12s\u001b[0m 300ms/step - loss: 0.2453 - sparse_categorical_accuracy: 0.9193 - val_loss: 0.3196 - val_sparse_categorical_accuracy: 0.8690\n",
      "Epoch 16/50\n",
      "\u001b[1m40/40\u001b[0m \u001b[32m━━━━━━━━━━━━━━━━━━━━\u001b[0m\u001b[37m\u001b[0m \u001b[1m14s\u001b[0m 338ms/step - loss: 0.2346 - sparse_categorical_accuracy: 0.9209 - val_loss: 0.3154 - val_sparse_categorical_accuracy: 0.8768\n",
      "Epoch 17/50\n",
      "\u001b[1m40/40\u001b[0m \u001b[32m━━━━━━━━━━━━━━━━━━━━\u001b[0m\u001b[37m\u001b[0m \u001b[1m24s\u001b[0m 404ms/step - loss: 0.2247 - sparse_categorical_accuracy: 0.9267 - val_loss: 0.3095 - val_sparse_categorical_accuracy: 0.8754\n",
      "Epoch 18/50\n",
      "\u001b[1m40/40\u001b[0m \u001b[32m━━━━━━━━━━━━━━━━━━━━\u001b[0m\u001b[37m\u001b[0m \u001b[1m39s\u001b[0m 942ms/step - loss: 0.2136 - sparse_categorical_accuracy: 0.9313 - val_loss: 0.3026 - val_sparse_categorical_accuracy: 0.8814\n",
      "Epoch 19/50\n",
      "\u001b[1m40/40\u001b[0m \u001b[32m━━━━━━━━━━━━━━━━━━━━\u001b[0m\u001b[37m\u001b[0m \u001b[1m10s\u001b[0m 240ms/step - loss: 0.2044 - sparse_categorical_accuracy: 0.9338 - val_loss: 0.3063 - val_sparse_categorical_accuracy: 0.8742\n",
      "Epoch 20/50\n",
      "\u001b[1m40/40\u001b[0m \u001b[32m━━━━━━━━━━━━━━━━━━━━\u001b[0m\u001b[37m\u001b[0m \u001b[1m7s\u001b[0m 176ms/step - loss: 0.1956 - sparse_categorical_accuracy: 0.9381 - val_loss: 0.2982 - val_sparse_categorical_accuracy: 0.8806\n",
      "Epoch 21/50\n",
      "\u001b[1m40/40\u001b[0m \u001b[32m━━━━━━━━━━━━━━━━━━━━\u001b[0m\u001b[37m\u001b[0m \u001b[1m6s\u001b[0m 155ms/step - loss: 0.1872 - sparse_categorical_accuracy: 0.9389 - val_loss: 0.2975 - val_sparse_categorical_accuracy: 0.8852\n",
      "Epoch 22/50\n",
      "\u001b[1m40/40\u001b[0m \u001b[32m━━━━━━━━━━━━━━━━━━━━\u001b[0m\u001b[37m\u001b[0m \u001b[1m5s\u001b[0m 117ms/step - loss: 0.1743 - sparse_categorical_accuracy: 0.9471 - val_loss: 0.2938 - val_sparse_categorical_accuracy: 0.8802\n",
      "Epoch 23/50\n",
      "\u001b[1m40/40\u001b[0m \u001b[32m━━━━━━━━━━━━━━━━━━━━\u001b[0m\u001b[37m\u001b[0m \u001b[1m5s\u001b[0m 113ms/step - loss: 0.1702 - sparse_categorical_accuracy: 0.9481 - val_loss: 0.2918 - val_sparse_categorical_accuracy: 0.8828\n",
      "Epoch 24/50\n",
      "\u001b[1m40/40\u001b[0m \u001b[32m━━━━━━━━━━━━━━━━━━━━\u001b[0m\u001b[37m\u001b[0m \u001b[1m4s\u001b[0m 110ms/step - loss: 0.1590 - sparse_categorical_accuracy: 0.9547 - val_loss: 0.2958 - val_sparse_categorical_accuracy: 0.8842\n",
      "Epoch 25/50\n",
      "\u001b[1m40/40\u001b[0m \u001b[32m━━━━━━━━━━━━━━━━━━━━\u001b[0m\u001b[37m\u001b[0m \u001b[1m5s\u001b[0m 118ms/step - loss: 0.1640 - sparse_categorical_accuracy: 0.9512 - val_loss: 0.3159 - val_sparse_categorical_accuracy: 0.8638\n",
      "Epoch 26/50\n",
      "\u001b[1m40/40\u001b[0m \u001b[32m━━━━━━━━━━━━━━━━━━━━\u001b[0m\u001b[37m\u001b[0m \u001b[1m5s\u001b[0m 125ms/step - loss: 0.1599 - sparse_categorical_accuracy: 0.9504 - val_loss: 0.2890 - val_sparse_categorical_accuracy: 0.8842\n",
      "Epoch 27/50\n",
      "\u001b[1m40/40\u001b[0m \u001b[32m━━━━━━━━━━━━━━━━━━━━\u001b[0m\u001b[37m\u001b[0m \u001b[1m5s\u001b[0m 138ms/step - loss: 0.1460 - sparse_categorical_accuracy: 0.9573 - val_loss: 0.2882 - val_sparse_categorical_accuracy: 0.8844\n",
      "Epoch 28/50\n",
      "\u001b[1m40/40\u001b[0m \u001b[32m━━━━━━━━━━━━━━━━━━━━\u001b[0m\u001b[37m\u001b[0m \u001b[1m6s\u001b[0m 150ms/step - loss: 0.1393 - sparse_categorical_accuracy: 0.9610 - val_loss: 0.2881 - val_sparse_categorical_accuracy: 0.8850\n",
      "Epoch 29/50\n",
      "\u001b[1m40/40\u001b[0m \u001b[32m━━━━━━━━━━━━━━━━━━━━\u001b[0m\u001b[37m\u001b[0m \u001b[1m6s\u001b[0m 154ms/step - loss: 0.1326 - sparse_categorical_accuracy: 0.9649 - val_loss: 0.2876 - val_sparse_categorical_accuracy: 0.8870\n",
      "Epoch 30/50\n",
      "\u001b[1m40/40\u001b[0m \u001b[32m━━━━━━━━━━━━━━━━━━━━\u001b[0m\u001b[37m\u001b[0m \u001b[1m7s\u001b[0m 171ms/step - loss: 0.1313 - sparse_categorical_accuracy: 0.9642 - val_loss: 0.2861 - val_sparse_categorical_accuracy: 0.8896\n",
      "Epoch 31/50\n",
      "\u001b[1m40/40\u001b[0m \u001b[32m━━━━━━━━━━━━━━━━━━━━\u001b[0m\u001b[37m\u001b[0m \u001b[1m10s\u001b[0m 248ms/step - loss: 0.1241 - sparse_categorical_accuracy: 0.9680 - val_loss: 0.2892 - val_sparse_categorical_accuracy: 0.8854\n",
      "Epoch 32/50\n",
      "\u001b[1m40/40\u001b[0m \u001b[32m━━━━━━━━━━━━━━━━━━━━\u001b[0m\u001b[37m\u001b[0m \u001b[1m10s\u001b[0m 249ms/step - loss: 0.1192 - sparse_categorical_accuracy: 0.9679 - val_loss: 0.2901 - val_sparse_categorical_accuracy: 0.8864\n",
      "Epoch 33/50\n",
      "\u001b[1m40/40\u001b[0m \u001b[32m━━━━━━━━━━━━━━━━━━━━\u001b[0m\u001b[37m\u001b[0m \u001b[1m15s\u001b[0m 362ms/step - loss: 0.1136 - sparse_categorical_accuracy: 0.9711 - val_loss: 0.2944 - val_sparse_categorical_accuracy: 0.8824\n",
      "Epoch 34/50\n",
      "\u001b[1m40/40\u001b[0m \u001b[32m━━━━━━━━━━━━━━━━━━━━\u001b[0m\u001b[37m\u001b[0m \u001b[1m23s\u001b[0m 545ms/step - loss: 0.1107 - sparse_categorical_accuracy: 0.9697 - val_loss: 0.2900 - val_sparse_categorical_accuracy: 0.8888\n",
      "Epoch 35/50\n",
      "\u001b[1m40/40\u001b[0m \u001b[32m━━━━━━━━━━━━━━━━━━━━\u001b[0m\u001b[37m\u001b[0m \u001b[1m46s\u001b[0m 651ms/step - loss: 0.1057 - sparse_categorical_accuracy: 0.9733 - val_loss: 0.2941 - val_sparse_categorical_accuracy: 0.8868\n",
      "Epoch 35: early stopping\n"
     ]
    }
   ],
   "source": [
    "early_stop = keras.callbacks.EarlyStopping( # Configurando um callback que interrompe o treinamento do modelo caso o desempenho pare de melhorar, com base em métricas monitoradas\n",
    "    patience = 5, # Definindo o patience, que é o número de epochs consecutivas em que a métrica monitorada pode não melhorar antes de interromper o treinamento\n",
    "    verbose = 1, # Definindo o verbose para exibir a informação de quando o callback for acionado caso aconteça\n",
    "    min_delta = 1E-4, # Definindo a menor diferença aceitável para considerar que houve melhora em uma métrica monitorada\n",
    ")\n",
    "\n",
    "history = model.fit( # Treinando o modelo e armazenando o seu resultado em uma variável\n",
    "    x_train, # Passando os valores de x de treino\n",
    "    y_train, # Passando os valores de y de treino\n",
    "    epochs = 50, # Definindo o número máximo de epochs, ou seja, quantas vezes o modelo passará por todo o conjunto de treino durante o ajuste\n",
    "    batch_size = 512, # Definindo o batch size, que é o número de amostras processadas de uma só vez antes de atualizar os pesos do modelo\n",
    "    validation_split = 0.2, # Definindo a proporção dos dados de treino que será separada para validação\n",
    "    verbose = 1, # Exibindo o andamento do treinamento do modelo\n",
    "    callbacks = [early_stop] # Definindo o callback com a condição de parada definida anteriormente para interromper o treinamento do modelo\n",
    ")"
   ]
  },
  {
   "cell_type": "markdown",
   "metadata": {},
   "source": [
    "### Fazendo o evaluate do modelo"
   ]
  },
  {
   "cell_type": "code",
   "execution_count": 14,
   "metadata": {},
   "outputs": [
    {
     "name": "stdout",
     "output_type": "stream",
     "text": [
      "\u001b[1m782/782\u001b[0m \u001b[32m━━━━━━━━━━━━━━━━━━━━\u001b[0m\u001b[37m\u001b[0m \u001b[1m8s\u001b[0m 9ms/step - loss: 0.3264 - sparse_categorical_accuracy: 0.8623\n"
     ]
    },
    {
     "data": {
      "text/plain": [
       "[0.32797613739967346, 0.8633999824523926]"
      ]
     },
     "execution_count": 14,
     "metadata": {},
     "output_type": "execute_result"
    }
   ],
   "source": [
    "model.evaluate(x_test, y_test) # Fazendo o evaluate do modelo"
   ]
  },
  {
   "cell_type": "markdown",
   "metadata": {},
   "source": [
    "### Verificando possíveis condições de overfitting"
   ]
  },
  {
   "cell_type": "code",
   "execution_count": 15,
   "metadata": {},
   "outputs": [
    {
     "data": {
      "image/png": "[encoded data removed]",
      "text/plain": [
       "<Figure size 640x480 with 1 Axes>"
      ]
     },
     "metadata": {},
     "output_type": "display_data"
    }
   ],
   "source": [
    "plt.plot(history.history['loss'], label='loss') # Plotando os valores de treino\n",
    "plt.plot(history.history['val_loss'], label='val_loss') # Plotando os valores de validação\n",
    "plt.legend() # Exibindo as legendas\n",
    "plt.show() # Exibindo o gráfico"
   ]
  },
  {
   "cell_type": "code",
   "execution_count": 16,
   "metadata": {},
   "outputs": [
    {
     "data": {
      "image/png": "[encoded data removed]",
      "text/plain": [
       "<Figure size 640x480 with 1 Axes>"
      ]
     },
     "metadata": {},
     "output_type": "display_data"
    }
   ],
   "source": [
    "plt.plot(history.history['sparse_categorical_accuracy'], label='accuracy') # Plotando os valores de treino\n",
    "plt.plot(history.history['val_sparse_categorical_accuracy'], label='val_accuracy') # Plotando os valores de validação\n",
    "plt.legend() # Exibindo as legendas\n",
    "plt.show() # Exibindo o gráfico"
   ]
  },
  {
   "cell_type": "markdown",
   "metadata": {},
   "source": [
    "### Fazendo o predict do modelo com uma amostra dos dados"
   ]
  },
  {
   "cell_type": "code",
   "execution_count": 17,
   "metadata": {},
   "outputs": [
    {
     "name": "stdout",
     "output_type": "stream",
     "text": [
      "Review 0:\n",
      "<START> this film was just brilliant casting location scenery story direction everyone's really suited the part they pla\n",
      "yed and you could just imagine being there robert redford's is an amazing actor and now the same being director norman's\n",
      " father came from the same scottish island as myself so i loved the fact there was a real connection with this film the \n",
      "witty remarks throughout the film were great it was just brilliant so much that i bought the film as soon as it was rele\n",
      "ased for retail and would recommend it to everyone to watch and the fly fishing was amazing really cried at the end it w\n",
      "as so sad and you know what they say if you cry at a film it must have been good and this definitely was also congratula\n",
      "tions to the two little boy's that played the part's of norman and paul they were just brilliant children are often left\n",
      " out of the praising list i think because the stars that play them all grown up are such a big profile for the whole fil\n",
      "m but these children are amazing and should be praised for what they have done don't you think the whole story was so lo\n",
      "vely because it was true and was someone's life after all that was shared with us all <PAD> <PAD> <PAD> <PAD> <PAD> <PAD\n",
      "> <PAD> <PAD> <PAD> <PAD> <PAD> <PAD> <PAD> <PAD> <PAD> <PAD> <PAD> <PAD> <PAD> <PAD> <PAD> <PAD> <PAD> <PAD> <PAD> <PAD\n",
      "> <PAD> <PAD> <PAD> <PAD> <PAD> <PAD> <PAD> <PAD> <PAD> <PAD> <PAD> <PAD>\n",
      "\n",
      "- Result: Right\n",
      "- Correct Answer: Negative Review\n",
      "- Prediction: Negative Review\n",
      "- Probabilities: Negative Review = 79.1% - Positive Review = 19.4%\n",
      "\n",
      "\n",
      "Review 1:\n",
      "<START> big hair big boobs bad music and a giant safety pin these are the words to best describe this terrible movie i l\n",
      "ove cheesy horror movies and i've seen hundreds but this had got to be on of the worst ever made the plot is paper thin \n",
      "and ridiculous the acting is an abomination the script is completely laughable the best is the end showdown with the cop\n",
      " and how he worked out who the killer is it's just so damn terribly written the clothes are sickening and funny in equal\n",
      " measures the hair is big lots of boobs bounce men wear those cut tee shirts that show off their stomachs sickening that\n",
      " men actually wore them and the music is just synthesiser trash that plays over and over again in almost every scene the\n",
      "re is trashy music boobs and paramedics taking away bodies and the gym still doesn't close for bereavement all joking as\n",
      "ide this is a truly bad film whose only charm is to look back on the disaster that was the 80's and have a good old laug\n",
      "h at how bad everything was back then <PAD> <PAD> <PAD> <PAD> <PAD> <PAD> <PAD> <PAD> <PAD> <PAD> <PAD> <PAD> <PAD> <PAD\n",
      "> <PAD> <PAD> <PAD> <PAD> <PAD> <PAD> <PAD> <PAD> <PAD> <PAD> <PAD> <PAD> <PAD> <PAD> <PAD> <PAD> <PAD> <PAD> <PAD> <PAD\n",
      "> <PAD> <PAD> <PAD> <PAD> <PAD> <PAD> <PAD> <PAD> <PAD> <PAD> <PAD> <PAD> <PAD> <PAD> <PAD> <PAD> <PAD> <PAD> <PAD> <PAD\n",
      "> <PAD> <PAD> <PAD> <PAD> <PAD> <PAD> <PAD> <PAD> <PAD> <PAD> <PAD> <PAD> <PAD>\n",
      "\n",
      "- Result: Right\n",
      "- Correct Answer: Positive Review\n",
      "- Prediction: Positive Review\n",
      "- Probabilities: Negative Review = 1.1% - Positive Review = 99.1%\n",
      "\n",
      "\n",
      "Review 2:\n",
      "<START> this has to be one of the worst films of the 1990s when my friends i were watching this film being the target au\n",
      "dience it was aimed at we just sat watched the first half an hour with our jaws touching the floor at how bad it really \n",
      "was the rest of the time everyone else in the theatre just started talking to each other leaving or generally crying int\n",
      "o their popcorn that they actually paid money they had earnt working to watch this feeble excuse for a film it must have\n",
      " looked like a great idea on paper but on film it looks like no one in the film has a clue what is going on crap acting \n",
      "crap costumes i can't get across how embarrasing this is to watch save yourself an hour a bit of your life <PAD> <PAD> <\n",
      "PAD> <PAD> <PAD> <PAD> <PAD> <PAD> <PAD> <PAD> <PAD> <PAD> <PAD> <PAD> <PAD> <PAD> <PAD> <PAD> <PAD> <PAD> <PAD> <PAD> <\n",
      "PAD> <PAD> <PAD> <PAD> <PAD> <PAD> <PAD> <PAD> <PAD> <PAD> <PAD> <PAD> <PAD> <PAD> <PAD> <PAD> <PAD> <PAD> <PAD> <PAD> <\n",
      "PAD> <PAD> <PAD> <PAD> <PAD> <PAD> <PAD> <PAD> <PAD> <PAD> <PAD> <PAD> <PAD> <PAD> <PAD> <PAD> <PAD> <PAD> <PAD> <PAD> <\n",
      "PAD> <PAD> <PAD> <PAD> <PAD> <PAD> <PAD> <PAD> <PAD> <PAD> <PAD> <PAD> <PAD> <PAD> <PAD> <PAD> <PAD> <PAD> <PAD> <PAD> <\n",
      "PAD> <PAD> <PAD> <PAD> <PAD> <PAD> <PAD> <PAD> <PAD> <PAD> <PAD> <PAD> <PAD> <PAD> <PAD> <PAD> <PAD> <PAD> <PAD> <PAD> <\n",
      "PAD> <PAD> <PAD> <PAD> <PAD> <PAD> <PAD> <PAD> <PAD> <PAD> <PAD> <PAD> <PAD>\n",
      "\n",
      "- Result: Right\n",
      "- Correct Answer: Positive Review\n",
      "- Prediction: Positive Review\n",
      "- Probabilities: Negative Review = 14.1% - Positive Review = 87.1%\n",
      "\n",
      "\n",
      "Review 3:\n",
      "<START> the scots excel at storytelling the traditional sort many years after the event i can still see in my mind's eye\n",
      " an elderly lady my friend's mother retelling the battle of culloden she makes the characters come alive her passion is \n",
      "that of an eye witness one to the events on the sodden heath a mile or so from where she lives br br of course it happen\n",
      "ed many years before she was born but you wouldn't guess from the way she tells it the same story is told in bars the le\n",
      "ngth and breadth of scotland as i discussed it with a friend one night in mallaig a local cut in to give his version the\n",
      " discussion continued to closing time br br stories passed down like this become part of our being who doesn't remember \n",
      "the stories our parents told us when we were children they become our invisible world and as we grow older they maybe st\n",
      "ill serve as inspiration or as an emotional reservoir fact and fiction blend with aspiration role models warning stories\n",
      " archetypes magic and mystery br br my name is aonghas like my grandfather and his grandfather before him our protagonis\n",
      "t introduces himself to us and also introduces the story that stretches back through generations it produces stories wit\n",
      "hin stories stories that evoke the impenetrable wonder of scotland its rugged mountains shrouded in mists the stuff of l\n",
      "egend yet seach'd is rooted in reality this is what gives it its special charm it has a rough beauty and\n",
      "\n",
      "- Result: Right\n",
      "- Correct Answer: Negative Review\n",
      "- Prediction: Negative Review\n",
      "- Probabilities: Negative Review = 59.7% - Positive Review = 39.8%\n",
      "\n",
      "\n",
      "Review 4:\n",
      "<START> worst mistake of my life br br i picked this movie up at target for 5 because i figured hey it's sandler i can g\n",
      "et some cheap laughs i was wrong completely wrong mid way through the film all three of my friends were asleep and i was\n",
      " still suffering worst plot worst script worst movie i have ever seen i wanted to hit my head up against a wall for an h\n",
      "our then i'd stop and you know why because it felt damn good upon bashing my head in i stuck that damn movie in the micr\n",
      "owave and watched it burn and that felt better than anything else i've ever done it took american psycho army of darknes\n",
      "s and kill bill just to get over that crap i hate you sandler for actually going through with this and ruining a whole d\n",
      "ay of my life <PAD> <PAD> <PAD> <PAD> <PAD> <PAD> <PAD> <PAD> <PAD> <PAD> <PAD> <PAD> <PAD> <PAD> <PAD> <PAD> <PAD> <PAD\n",
      "> <PAD> <PAD> <PAD> <PAD> <PAD> <PAD> <PAD> <PAD> <PAD> <PAD> <PAD> <PAD> <PAD> <PAD> <PAD> <PAD> <PAD> <PAD> <PAD> <PAD\n",
      "> <PAD> <PAD> <PAD> <PAD> <PAD> <PAD> <PAD> <PAD> <PAD> <PAD> <PAD> <PAD> <PAD> <PAD> <PAD> <PAD> <PAD> <PAD> <PAD> <PAD\n",
      "> <PAD> <PAD> <PAD> <PAD> <PAD> <PAD> <PAD> <PAD> <PAD> <PAD> <PAD> <PAD> <PAD> <PAD> <PAD> <PAD> <PAD> <PAD> <PAD> <PAD\n",
      "> <PAD> <PAD> <PAD> <PAD> <PAD> <PAD> <PAD> <PAD> <PAD> <PAD> <PAD> <PAD> <PAD> <PAD> <PAD> <PAD> <PAD> <PAD> <PAD> <PAD\n",
      "> <PAD> <PAD> <PAD> <PAD> <PAD> <PAD> <PAD> <PAD> <PAD> <PAD> <PAD>\n",
      "\n",
      "- Result: Right\n",
      "- Correct Answer: Positive Review\n",
      "- Prediction: Positive Review\n",
      "- Probabilities: Negative Review = 27.3% - Positive Review = 73.4%\n",
      "\n",
      "\n",
      "Review 5:\n",
      "<START> begins better than it ends funny that the russian submarine crew outperforms all other actors it's like those sc\n",
      "enes where documentary shots br br spoiler part the message dechifered was contrary to the whole story it just does not \n",
      "mesh br br <PAD> <PAD> <PAD> <PAD> <PAD> <PAD> <PAD> <PAD> <PAD> <PAD> <PAD> <PAD> <PAD> <PAD> <PAD> <PAD> <PAD> <PAD> <\n",
      "PAD> <PAD> <PAD> <PAD> <PAD> <PAD> <PAD> <PAD> <PAD> <PAD> <PAD> <PAD> <PAD> <PAD> <PAD> <PAD> <PAD> <PAD> <PAD> <PAD> <\n",
      "PAD> <PAD> <PAD> <PAD> <PAD> <PAD> <PAD> <PAD> <PAD> <PAD> <PAD> <PAD> <PAD> <PAD> <PAD> <PAD> <PAD> <PAD> <PAD> <PAD> <\n",
      "PAD> <PAD> <PAD> <PAD> <PAD> <PAD> <PAD> <PAD> <PAD> <PAD> <PAD> <PAD> <PAD> <PAD> <PAD> <PAD> <PAD> <PAD> <PAD> <PAD> <\n",
      "PAD> <PAD> <PAD> <PAD> <PAD> <PAD> <PAD> <PAD> <PAD> <PAD> <PAD> <PAD> <PAD> <PAD> <PAD> <PAD> <PAD> <PAD> <PAD> <PAD> <\n",
      "PAD> <PAD> <PAD> <PAD> <PAD> <PAD> <PAD> <PAD> <PAD> <PAD> <PAD> <PAD> <PAD> <PAD> <PAD> <PAD> <PAD> <PAD> <PAD> <PAD> <\n",
      "PAD> <PAD> <PAD> <PAD> <PAD> <PAD> <PAD> <PAD> <PAD> <PAD> <PAD> <PAD> <PAD> <PAD> <PAD> <PAD> <PAD> <PAD> <PAD> <PAD> <\n",
      "PAD> <PAD> <PAD> <PAD> <PAD> <PAD> <PAD> <PAD> <PAD> <PAD> <PAD> <PAD> <PAD> <PAD> <PAD> <PAD> <PAD> <PAD> <PAD> <PAD> <\n",
      "PAD> <PAD> <PAD> <PAD> <PAD> <PAD> <PAD> <PAD> <PAD> <PAD> <PAD> <PAD> <PAD> <PAD> <PAD> <PAD> <PAD> <PAD> <PAD> <PAD> <\n",
      "PAD> <PAD> <PAD> <PAD> <PAD> <PAD> <PAD> <PAD> <PAD> <PAD> <PAD> <PAD> <PAD> <PAD> <PAD> <PAD> <PAD> <PAD> <PAD> <PAD> <\n",
      "PAD> <PAD> <PAD> <PAD> <PAD> <PAD> <PAD> <PAD> <PAD> <PAD> <PAD> <PAD> <PAD> <PAD> <PAD>\n",
      "\n",
      "- Result: Wrong\n",
      "- Correct Answer: Positive Review\n",
      "- Prediction: Negative Review\n",
      "- Probabilities: Negative Review = 51.4% - Positive Review = 48.2%\n",
      "\n",
      "\n",
      "Review 6:\n",
      "<START> lavish production values and solid performances in this straightforward adaption of jane austen's satirical clas\n",
      "sic about the marriage game within and between the classes in provincial 18th century england northam and paltrow are a \n",
      "salutory mixture as friends who must pass through jealousies and lies to discover that they love each other good humor i\n",
      "s a sustaining virtue which goes a long way towards explaining the accessability of the aged source material which has b\n",
      "een toned down a bit in its harsh scepticism i liked the look of the film and how shots were set up and i thought it did\n",
      "n't rely too much on successions of head shots like most other films of the 80s and 90s do very good results <PAD> <PAD>\n",
      " <PAD> <PAD> <PAD> <PAD> <PAD> <PAD> <PAD> <PAD> <PAD> <PAD> <PAD> <PAD> <PAD> <PAD> <PAD> <PAD> <PAD> <PAD> <PAD> <PAD>\n",
      " <PAD> <PAD> <PAD> <PAD> <PAD> <PAD> <PAD> <PAD> <PAD> <PAD> <PAD> <PAD> <PAD> <PAD> <PAD> <PAD> <PAD> <PAD> <PAD> <PAD>\n",
      " <PAD> <PAD> <PAD> <PAD> <PAD> <PAD> <PAD> <PAD> <PAD> <PAD> <PAD> <PAD> <PAD> <PAD> <PAD> <PAD> <PAD> <PAD> <PAD> <PAD>\n",
      " <PAD> <PAD> <PAD> <PAD> <PAD> <PAD> <PAD> <PAD> <PAD> <PAD> <PAD> <PAD> <PAD> <PAD> <PAD> <PAD> <PAD> <PAD> <PAD> <PAD>\n",
      " <PAD> <PAD> <PAD> <PAD> <PAD> <PAD> <PAD> <PAD> <PAD> <PAD> <PAD> <PAD> <PAD> <PAD> <PAD> <PAD> <PAD> <PAD> <PAD> <PAD>\n",
      " <PAD> <PAD> <PAD> <PAD> <PAD> <PAD> <PAD> <PAD> <PAD> <PAD> <PAD> <PAD> <PAD> <PAD> <PAD> <PAD> <PAD> <PAD> <PAD> <PAD>\n",
      " <PAD> <PAD> <PAD> <PAD> <PAD> <PAD> <PAD> <PAD> <PAD> <PAD> <PAD>\n",
      "\n",
      "- Result: Right\n",
      "- Correct Answer: Positive Review\n",
      "- Prediction: Positive Review\n",
      "- Probabilities: Negative Review = 31.7% - Positive Review = 68.9%\n",
      "\n",
      "\n",
      "Review 7:\n",
      "<START> the hamiltons tells the story of the four hamilton siblings teenager francis cory knauf twins wendell joseph mck\n",
      "elheer darlene mackenzie firgens the eldest david samuel who is now the surrogate parent in charge the hamilton's move h\n",
      "ouse a lot franics is unsure why is unhappy with the way things are the fact that his brother's sister kidnap imprison m\n",
      "urder people in the basement doesn't help relax or calm francis' nerves either francis know's something just isn't right\n",
      " when he eventually finds out the truth things will never be the same again br br co written co produced directed by mit\n",
      "chell altieri phil flores as the butcher brothers who's only other film director's credit so far is the april fool's day\n",
      " 2008 remake enough said this was one of the 'films to die for' at the 2006 after dark horrorfest or whatever it's calle\n",
      "d in keeping with pretty much all the other's i've seen i thought the hamiltons was complete total utter crap i found th\n",
      "e character's really poor very unlikable the slow moving story failed to capture my imagination or sustain my interest o\n",
      "ver it's 85 a half minute too long 86 minute duration the there's the awful twist at the end which had me laughing out l\n",
      "oud there's this really big sustained build up to what's inside a cupboard thing in the hamiltons basement it's eventual\n",
      "ly revealed to be a little boy with a teddy is that really supposed to scare us is that really supposed to shock us is t\n",
      "hat really something that\n",
      "\n",
      "- Result: Right\n",
      "- Correct Answer: Negative Review\n",
      "- Prediction: Negative Review\n",
      "- Probabilities: Negative Review = 92.2% - Positive Review = 6.8%\n",
      "\n",
      "\n",
      "Review 8:\n",
      "<START> just got out and cannot believe what a brilliant documentary this is rarely do you walk out of a movie theater i\n",
      "n such awe and amazement lately movies have become so over hyped that the thrill of discovering something truly special \n",
      "and unique rarely happens amores perros did this to me when it first came out and this movie is doing to me now i didn't\n",
      " know a thing about this before going into it and what a surprise if you hear the concept you might get the feeling that\n",
      " this is one of those touchy movies about an amazing triumph covered with over the top music and trying to have us fully\n",
      " convinced of what a great story it is telling but then not letting us in fortunetly this is not that movie the people t\n",
      "ell the story this does such a good job of capturing every moment of their involvement while we enter their world and fe\n",
      "el every second with them there is so much beyond the climb that makes everything they go through so much more tense tou\n",
      "ching the void was also a great doc about mountain climbing and showing the intensity in an engaging way but this film i\n",
      "s much more of a human story i just saw it today but i will go and say that this is one of the best documentaries i have\n",
      " ever seen <PAD> <PAD> <PAD> <PAD> <PAD> <PAD> <PAD> <PAD> <PAD> <PAD> <PAD> <PAD> <PAD> <PAD> <PAD> <PAD> <PAD> <PAD> <\n",
      "PAD> <PAD> <PAD> <PAD> <PAD>\n",
      "\n",
      "- Result: Wrong\n",
      "- Correct Answer: Negative Review\n",
      "- Prediction: Positive Review\n",
      "- Probabilities: Negative Review = 21.3% - Positive Review = 79.7%\n",
      "\n",
      "\n",
      "Review 9:\n",
      "<START> this movie has many problem associated with it that makes it come off like a low budget class project from someo\n",
      "ne in film school i have to give it credit on its campiness though many times throughout the movie i found myself laughi\n",
      "ng hysterically it was so bad at times that it was comical which made it a fun watch br br if you're looking for a low g\n",
      "rade slasher movie with a twist of psychological horror and a dash of campy ridiculousness then pop a bowl of popcorn in\n",
      "vite some friends over and have some fun br br i agree with other comments that the sound is very bad dialog is next to \n",
      "impossible to follow much of the time and the soundtrack is kind of just there <PAD> <PAD> <PAD> <PAD> <PAD> <PAD> <PAD>\n",
      " <PAD> <PAD> <PAD> <PAD> <PAD> <PAD> <PAD> <PAD> <PAD> <PAD> <PAD> <PAD> <PAD> <PAD> <PAD> <PAD> <PAD> <PAD> <PAD> <PAD>\n",
      " <PAD> <PAD> <PAD> <PAD> <PAD> <PAD> <PAD> <PAD> <PAD> <PAD> <PAD> <PAD> <PAD> <PAD> <PAD> <PAD> <PAD> <PAD> <PAD> <PAD>\n",
      " <PAD> <PAD> <PAD> <PAD> <PAD> <PAD> <PAD> <PAD> <PAD> <PAD> <PAD> <PAD> <PAD> <PAD> <PAD> <PAD> <PAD> <PAD> <PAD> <PAD>\n",
      " <PAD> <PAD> <PAD> <PAD> <PAD> <PAD> <PAD> <PAD> <PAD> <PAD> <PAD> <PAD> <PAD> <PAD> <PAD> <PAD> <PAD> <PAD> <PAD> <PAD>\n",
      " <PAD> <PAD> <PAD> <PAD> <PAD> <PAD> <PAD> <PAD> <PAD> <PAD> <PAD> <PAD> <PAD> <PAD> <PAD> <PAD> <PAD> <PAD> <PAD> <PAD>\n",
      " <PAD> <PAD> <PAD> <PAD> <PAD> <PAD> <PAD> <PAD> <PAD> <PAD> <PAD> <PAD> <PAD> <PAD> <PAD> <PAD> <PAD> <PAD> <PAD>\n",
      "\n",
      "- Result: Right\n",
      "- Correct Answer: Positive Review\n",
      "- Prediction: Positive Review\n",
      "- Probabilities: Negative Review = 29.7% - Positive Review = 71.1%\n",
      "\n",
      "\n"
     ]
    }
   ],
   "source": [
    "for i in range (10): # Criando uma estrutura de repetição para avaliar os 5 primeiros reviews\n",
    "    \n",
    "    print(f'Review {i}:') # Printando o número do review\n",
    "    decoded_text = decode_review(x_train[i], word_index) # Usando a função para decodificar e visualizar o primeiro review, passando um review e o dicionário de palavras\n",
    "    print('\\n'.join([decoded_text[i:i+120] for i in range(0, len(decoded_text), 120)])) # Printando o texto com limite de 120 caracteres\n",
    "\n",
    "    print() # Printando uma linha vazia para separar o texto das previsões\n",
    "\n",
    "    prediction = np.argmax(model.predict(np.expand_dims(x_test[i], axis=0), verbose=0)) # Armazenando em variável a previsão para otimizar o código ao printar logo abaixo\n",
    "    probabilities = model.predict(np.expand_dims(x_test[i], axis=0), verbose=0).flatten() # Armazenando em variável as probabilidades para otimizar o código ao printar logo abaixo\n",
    "    print('- Result:', 'Right' if y_test[i] == prediction else 'Wrong') # Printando o resultado da previsão\n",
    "    print('- Correct Answer:', 'Negative Review' if y_test[i] == 0 else 'Positive Review') # Printando a resposta correta\n",
    "    print('- Prediction:', 'Negative Review' if prediction == 0 else 'Positive Review') # Printando a previsão do modelo\n",
    "    print(f'- Probabilities: Negative Review = {probabilities[0] * 100:.1f}% - Positive Review = {probabilities[1] * 100:.1f}%') # Printando as probabilidades de cada possível resposta\n",
    "    \n",
    "    print('\\n') # Printando duas linhas vazias para separar os reviews"
   ]
  },
  {
   "cell_type": "markdown",
   "metadata": {},
   "source": [
    "### Testando o modelo com reviews criados manualmente"
   ]
  },
  {
   "cell_type": "code",
   "execution_count": 18,
   "metadata": {},
   "outputs": [],
   "source": [
    "positive_review = 'The movie was great! The animation and the graphics were out of this world. I would recommend this movie.' # Armazenando em uma variável um review positivo\n",
    "negative_review = 'The movie was terrible. The animation was poor and the graphics ware awful. I would not recommend this movie.' # Armazenando em uma variável um review negativo"
   ]
  },
  {
   "cell_type": "code",
   "execution_count": 21,
   "metadata": {},
   "outputs": [],
   "source": [
    "def encode_review(text, index): # Criando uma função para transformar os reviews, de um texto normal para uma sequência de números, passando um texto e o dicionário de palavras\n",
    "    text = text.translate(str.maketrans('', '', string.punctuation)).lower() # Tratando o texto, removendo pontuações e transformando todo o texto em letra minúscula\n",
    "    return [index.get(word, 2) for word in text.split(' ')] # Retornando o texto transformado em uma sequência de números com base no dicionário de palavras"
   ]
  },
  {
   "cell_type": "code",
   "execution_count": 25,
   "metadata": {},
   "outputs": [],
   "source": [
    "positive_review = keras.utils.pad_sequences( # Ajustando o novo valor do review para otimizar os recursos de processamento, limitando os reviews em 256 tokens (nesse caso, palavras). Para reviews menores, serão preenchidos com <PAD>. Para reviews maiores, serão cortados em 256 tokens.\n",
    "    [encode_review(positive_review, word_index)], # Passando os dados que serão alterados\n",
    "    value=word_index['<PAD>'], # Passando o valor que preenchera os espaços vazios caso os reviews tenham menos de 256 tokens\n",
    "    padding='post', # Definindo se os reviews com menos de 256 tokens, vão ser preenchidos com <PAD> no início ou no final\n",
    "    truncating='post', # Definindo se os reviews com mais de 256 tokens, vão ser cortados no início ou no final\n",
    "    maxlen=256 # Definindo o número máximo de tokens\n",
    ")\n",
    "\n",
    "negative_review = keras.utils.pad_sequences( # Ajustando o novo valor do review para otimizar os recursos de processamento, limitando os reviews em 256 tokens (nesse caso, palavras). Para reviews menores, serão preenchidos com <PAD>. Para reviews maiores, serão cortados em 256 tokens.\n",
    "    [encode_review(negative_review, word_index)], # Passando os dados que serão alterados\n",
    "    value=word_index['<PAD>'], # Passando o valor que preenchera os espaços vazios caso os reviews tenham menos de 256 tokens\n",
    "    padding='post', # Definindo se os reviews com menos de 256 tokens, vão ser preenchidos com <PAD> no início ou no final\n",
    "    truncating='post', # Definindo se os reviews com mais de 256 tokens, vão ser cortados no início ou no final\n",
    "    maxlen=256 # Definindo o número máximo de tokens\n",
    ")"
   ]
  },
  {
   "cell_type": "code",
   "execution_count": 35,
   "metadata": {},
   "outputs": [
    {
     "name": "stdout",
     "output_type": "stream",
     "text": [
      "Review 0:\n",
      "\n",
      "\n",
      "\n"
     ]
    }
   ],
   "source": [
    "result_list = [positive_review, negative_review]\n",
    "\n",
    "for i in range (1): # Criando uma estrutura de repetição para avaliar os 5 primeiros reviews\n",
    "    \n",
    "    print(f'Review {i}:') # Printando o número do review\n",
    "    # decoded_text = decode_review(result_list[i], word_index) # Usando a função para decodificar e visualizar o primeiro review, passando um review e o dicionário de palavras\n",
    "    # print('\\n'.join([decoded_text[i:i+120] for i in range(0, len(decoded_text), 120)])) # Printando o texto com limite de 120 caracteres\n",
    "\n",
    "    print() # Printando uma linha vazia para separar o texto das previsões\n",
    "\n",
    "    # prediction = np.argmax(model.predict(np.expand_dims(result_list, axis=0), verbose=0)) # Armazenando em variável a previsão para otimizar o código ao printar logo abaixo\n",
    "    # probabilities = model.predict(np.expand_dims(result_list, axis=0), verbose=0).flatten() # Armazenando em variável as probabilidades para otimizar o código ao printar logo abaixo\n",
    "    # print('- Prediction:', 'Negative Review' if prediction == 0 else 'Positive Review') # Printando a previsão do modelo\n",
    "    # print(f'- Probabilities: Negative Review = {probabilities[0] * 100:.1f}% - Positive Review = {probabilities[1] * 100:.1f}%') # Printando as probabilidades de cada possível resposta\n",
    "    \n",
    "    print('\\n') # Printando duas linhas vazias para separar os reviews"
   ]
  }
 ],
 "metadata": {
  "kernelspec": {
   "display_name": "Python 3",
   "language": "python",
   "name": "python3"
  },
  "language_info": {
   "codemirror_mode": {
    "name": "ipython",
    "version": 3
   },
   "file_extension": ".py",
   "mimetype": "text/x-python",
   "name": "python",
   "nbconvert_exporter": "python",
   "pygments_lexer": "ipython3",
   "version": "3.12.4"
  }
 },
 "nbformat": 4,
 "nbformat_minor": 2
}
